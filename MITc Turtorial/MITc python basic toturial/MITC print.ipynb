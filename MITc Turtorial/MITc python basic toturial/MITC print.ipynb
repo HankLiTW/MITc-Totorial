{
  "cells": [
    {
      "cell_type": "markdown",
      "metadata": {
        "id": "_5Sy_e8gx-1q"
      },
      "source": [
        "# Print\n",
        "\n",
        "大家應該都聽過一個句話，每個工程師學會寫的第一個程式都是 Print Hello World。"
      ]
    },
    {
      "cell_type": "code",
      "execution_count": null,
      "metadata": {
        "id": "ibK-UJKXx-1t",
        "outputId": "5574610a-913e-4e31-db88-119ee93b5603"
      },
      "outputs": [
        {
          "name": "stdout",
          "output_type": "stream",
          "text": [
            "Hello World\n"
          ]
        }
      ],
      "source": [
        "print(\"Hello World\")"
      ]
    },
    {
      "cell_type": "markdown",
      "metadata": {
        "id": "2v6L2ljax-1v"
      },
      "source": [
        "# 我們可以Print其他文字嗎？"
      ]
    },
    {
      "cell_type": "code",
      "execution_count": null,
      "metadata": {
        "id": "lJBzGi2px-1v",
        "outputId": "c9a59f60-5258-4b0d-9851-8176ccf32f05"
      },
      "outputs": [
        {
          "name": "stdout",
          "output_type": "stream",
          "text": [
            "Hello nccu\n"
          ]
        }
      ],
      "source": [
        "print(\"Hello nccu\")"
      ]
    },
    {
      "cell_type": "code",
      "execution_count": null,
      "metadata": {
        "id": "t1Z2v0ALx-1v",
        "outputId": "dc997ca8-2cbd-4406-ac1e-7d0275565bd3"
      },
      "outputs": [
        {
          "name": "stdout",
          "output_type": "stream",
          "text": [
            "Taiwan #1\n"
          ]
        }
      ],
      "source": [
        "print(\"Taiwan #1\")"
      ]
    },
    {
      "cell_type": "code",
      "execution_count": null,
      "metadata": {
        "id": "Km0175ISx-1v",
        "outputId": "f41ec26f-058a-4832-a1f3-4c74d0bf9f96"
      },
      "outputs": [
        {
          "name": "stdout",
          "output_type": "stream",
          "text": [
            "數理資訊社好棒\n"
          ]
        }
      ],
      "source": [
        "print(\"數理資訊社好棒\")"
      ]
    },
    {
      "cell_type": "markdown",
      "metadata": {
        "id": "RzDBEAc3x-1w"
      },
      "source": [
        "# Note that we should add \" in the both side of words we want to print "
      ]
    },
    {
      "cell_type": "code",
      "execution_count": null,
      "metadata": {
        "id": "39dRpooTx-1w",
        "outputId": "921fdbee-e354-45c3-d19e-97736ab18ce0"
      },
      "outputs": [
        {
          "ename": "SyntaxError",
          "evalue": "invalid syntax (<ipython-input-439-6135c6da936c>, line 1)",
          "output_type": "error",
          "traceback": [
            "\u001b[1;36m  File \u001b[1;32m\"<ipython-input-439-6135c6da936c>\"\u001b[1;36m, line \u001b[1;32m1\u001b[0m\n\u001b[1;33m    print(hello world)\u001b[0m\n\u001b[1;37m                ^\u001b[0m\n\u001b[1;31mSyntaxError\u001b[0m\u001b[1;31m:\u001b[0m invalid syntax\n"
          ]
        }
      ],
      "source": [
        "print(hello world)"
      ]
    },
    {
      "cell_type": "markdown",
      "metadata": {
        "id": "1qyqqBgax-1w"
      },
      "source": [
        "# syntax 翻譯過來是語法錯誤 ，意思就是說是自己的程式中有缺少一些關鍵部分，向這邊就缺少了左右兩邊的\""
      ]
    },
    {
      "cell_type": "markdown",
      "metadata": {
        "id": "VS3wuEmQx-1w"
      },
      "source": [
        "# 事實上，我們不只可以print文字，我們可以print任何東西。"
      ]
    },
    {
      "cell_type": "markdown",
      "metadata": {
        "id": "VRtfyjLcx-1w"
      },
      "source": [
        "整數"
      ]
    },
    {
      "cell_type": "code",
      "execution_count": null,
      "metadata": {
        "id": "s6MvhrtRx-1x",
        "outputId": "ff8d3802-88a6-4985-d17b-48cb4df13bd2"
      },
      "outputs": [
        {
          "name": "stdout",
          "output_type": "stream",
          "text": [
            "1\n"
          ]
        }
      ],
      "source": [
        "print(1)"
      ]
    },
    {
      "cell_type": "markdown",
      "metadata": {
        "id": "EWTAb1Ewx-1x"
      },
      "source": [
        "小數點"
      ]
    },
    {
      "cell_type": "code",
      "execution_count": null,
      "metadata": {
        "id": "GTCOiDzsx-1x",
        "outputId": "cd83e069-de1a-42b9-8ce5-d61f81d5b423"
      },
      "outputs": [
        {
          "name": "stdout",
          "output_type": "stream",
          "text": [
            "3.14159\n"
          ]
        }
      ],
      "source": [
        "print(3.14159)"
      ]
    },
    {
      "cell_type": "markdown",
      "metadata": {
        "id": "OWqFuCgxx-1x"
      },
      "source": [
        "運算結果"
      ]
    },
    {
      "cell_type": "code",
      "execution_count": null,
      "metadata": {
        "id": "thYkCJcdx-1x",
        "outputId": "e88f3aa2-f373-4c22-9ba3-c9ed4fab6485"
      },
      "outputs": [
        {
          "name": "stdout",
          "output_type": "stream",
          "text": [
            "2\n"
          ]
        }
      ],
      "source": [
        "print(1+1)"
      ]
    },
    {
      "cell_type": "code",
      "execution_count": null,
      "metadata": {
        "id": "JoGqlcndx-1y",
        "outputId": "e8fe8183-8f88-4926-d99b-143d5cd83162"
      },
      "outputs": [
        {
          "name": "stdout",
          "output_type": "stream",
          "text": [
            "64\n"
          ]
        }
      ],
      "source": [
        "print(8*8)"
      ]
    },
    {
      "cell_type": "code",
      "execution_count": null,
      "metadata": {
        "id": "F6QohnYGx-1y",
        "outputId": "41581267-9dde-421e-e01e-73d55cfe5af5"
      },
      "outputs": [
        {
          "name": "stdout",
          "output_type": "stream",
          "text": [
            "hello nccu\n"
          ]
        }
      ],
      "source": [
        "print(\"hello\"+\" \"+'nccu')"
      ]
    },
    {
      "cell_type": "code",
      "execution_count": null,
      "metadata": {
        "id": "votuzNqCx-1y",
        "outputId": "9fb31cec-3d17-40ab-d08b-c5dff16499ee"
      },
      "outputs": [
        {
          "name": "stdout",
          "output_type": "stream",
          "text": [
            "Hello nccu\n"
          ]
        }
      ],
      "source": [
        "print(\"Hello\"\n",
        "   +\" \" +\"nccu\")"
      ]
    },
    {
      "cell_type": "code",
      "execution_count": null,
      "metadata": {
        "id": "P8AYbfbsx-1y",
        "outputId": "02e92caa-d64b-43da-bb56-666b6ea7d5ad"
      },
      "outputs": [
        {
          "name": "stdout",
          "output_type": "stream",
          "text": [
            "Hello\n",
            "NCCU\n"
          ]
        }
      ],
      "source": [
        "print(\"\"\"Hello\n",
        "NCCU\"\"\")"
      ]
    },
    {
      "cell_type": "markdown",
      "metadata": {
        "id": "FOAb-b2Hx-1y"
      },
      "source": [
        "# 值得注意的是，在jupyter notebook或colab中，若我們想要print出來的東西只有一個，我們不需要特別打print，只需要打出他的函數名稱或者運算就可以了。但事實上只有透過print，python才能顯示出文字或者結果出來。"
      ]
    },
    {
      "cell_type": "code",
      "execution_count": null,
      "metadata": {
        "id": "GgV3I1Jux-1z",
        "outputId": "6a9eee6b-1f19-4bc0-d7b2-4bcad5fcbfd2"
      },
      "outputs": [
        {
          "data": {
            "text/plain": [
              "2"
            ]
          },
          "execution_count": 447,
          "metadata": {},
          "output_type": "execute_result"
        }
      ],
      "source": [
        "1+1"
      ]
    },
    {
      "cell_type": "code",
      "execution_count": null,
      "metadata": {
        "id": "Q3sqFbC3x-1z",
        "outputId": "67d87fff-386d-4bac-a1f1-fb03f43d857e"
      },
      "outputs": [
        {
          "data": {
            "text/plain": [
              "4"
            ]
          },
          "execution_count": 448,
          "metadata": {},
          "output_type": "execute_result"
        }
      ],
      "source": [
        "1+1\n",
        "2+2"
      ]
    },
    {
      "cell_type": "code",
      "execution_count": null,
      "metadata": {
        "id": "W2WWT7qwx-1z",
        "outputId": "5d77a500-fa27-4565-eff9-c7db6763ccfc"
      },
      "outputs": [
        {
          "name": "stdout",
          "output_type": "stream",
          "text": [
            "2\n",
            "4\n"
          ]
        }
      ],
      "source": [
        "print(1+1)\n",
        "print(2+2)"
      ]
    },
    {
      "cell_type": "markdown",
      "metadata": {
        "id": "YYijRDpWx-1z"
      },
      "source": [
        "# Python基礎型別"
      ]
    },
    {
      "cell_type": "code",
      "execution_count": null,
      "metadata": {
        "id": "9Z1PW_hxx-1z",
        "outputId": "25eefd7d-45ab-44e7-e998-c544ab6c27bc"
      },
      "outputs": [
        {
          "data": {
            "text/plain": [
              "int"
            ]
          },
          "execution_count": 450,
          "metadata": {},
          "output_type": "execute_result"
        }
      ],
      "source": [
        "type(1)"
      ]
    },
    {
      "cell_type": "code",
      "execution_count": null,
      "metadata": {
        "id": "O_bV1Jmux-10",
        "outputId": "8e5fa858-cc73-478b-bf7e-0769efc3afe5"
      },
      "outputs": [
        {
          "data": {
            "text/plain": [
              "float"
            ]
          },
          "execution_count": 451,
          "metadata": {},
          "output_type": "execute_result"
        }
      ],
      "source": [
        "type(1.0)"
      ]
    },
    {
      "cell_type": "code",
      "execution_count": null,
      "metadata": {
        "id": "iv1xs3vIx-10",
        "outputId": "b8c4aadd-3684-4d3a-8f13-20f7deeb9707"
      },
      "outputs": [
        {
          "data": {
            "text/plain": [
              "str"
            ]
          },
          "execution_count": 452,
          "metadata": {},
          "output_type": "execute_result"
        }
      ],
      "source": [
        "type(\"1\")"
      ]
    },
    {
      "cell_type": "markdown",
      "metadata": {
        "id": "5RcjOcQCx-10"
      },
      "source": [
        "# Casting"
      ]
    },
    {
      "cell_type": "code",
      "execution_count": null,
      "metadata": {
        "id": "qO18dfA2x-10",
        "outputId": "9f1f56cb-01f9-4642-ec92-6bf7256edcd3"
      },
      "outputs": [
        {
          "data": {
            "text/plain": [
              "1"
            ]
          },
          "execution_count": 453,
          "metadata": {},
          "output_type": "execute_result"
        }
      ],
      "source": [
        "int(\"1\")"
      ]
    },
    {
      "cell_type": "code",
      "execution_count": null,
      "metadata": {
        "id": "aCud2QlMx-10",
        "outputId": "e7684ef7-930f-403c-d353-8853721aeb43"
      },
      "outputs": [
        {
          "data": {
            "text/plain": [
              "int"
            ]
          },
          "execution_count": 454,
          "metadata": {},
          "output_type": "execute_result"
        }
      ],
      "source": [
        "type(int(\"1\"))"
      ]
    },
    {
      "cell_type": "code",
      "execution_count": null,
      "metadata": {
        "id": "AMS5E0Bpx-10",
        "outputId": "b6e589e5-bb40-4ba6-b48a-17dbd4b08a5d"
      },
      "outputs": [
        {
          "data": {
            "text/plain": [
              "1.0"
            ]
          },
          "execution_count": 455,
          "metadata": {},
          "output_type": "execute_result"
        }
      ],
      "source": [
        "float(\"1\")"
      ]
    },
    {
      "cell_type": "code",
      "execution_count": null,
      "metadata": {
        "id": "6TePC0q0x-11",
        "outputId": "7c9f7f84-f439-4daf-8f9b-f332e31b3986"
      },
      "outputs": [
        {
          "data": {
            "text/plain": [
              "float"
            ]
          },
          "execution_count": 456,
          "metadata": {},
          "output_type": "execute_result"
        }
      ],
      "source": [
        "type(float(\"1\"))"
      ]
    },
    {
      "cell_type": "code",
      "execution_count": null,
      "metadata": {
        "id": "XAQQX2hcx-11",
        "outputId": "5d69f6dc-5792-478c-d0fd-885331c7d44d"
      },
      "outputs": [
        {
          "data": {
            "text/plain": [
              "'1'"
            ]
          },
          "execution_count": 457,
          "metadata": {},
          "output_type": "execute_result"
        }
      ],
      "source": [
        "str(1)"
      ]
    },
    {
      "cell_type": "code",
      "execution_count": null,
      "metadata": {
        "id": "SzQzv6sOx-11",
        "outputId": "62995054-22b4-4153-ccc8-3ce89c2e7546"
      },
      "outputs": [
        {
          "data": {
            "text/plain": [
              "str"
            ]
          },
          "execution_count": 458,
          "metadata": {},
          "output_type": "execute_result"
        }
      ],
      "source": [
        "type(str(1))"
      ]
    },
    {
      "cell_type": "markdown",
      "metadata": {
        "id": "64CjHYeFx-11"
      },
      "source": [
        "# 如果我們將小數轉成整數的話？"
      ]
    },
    {
      "cell_type": "code",
      "execution_count": null,
      "metadata": {
        "id": "LahfpGOox-11",
        "outputId": "429dda8f-15ae-4513-bba2-938b634ca7ee"
      },
      "outputs": [
        {
          "data": {
            "text/plain": [
              "1"
            ]
          },
          "execution_count": 459,
          "metadata": {},
          "output_type": "execute_result"
        }
      ],
      "source": [
        "int(1.2)"
      ]
    },
    {
      "cell_type": "code",
      "execution_count": null,
      "metadata": {
        "id": "CXZ7q2udx-11",
        "outputId": "830c5c52-0136-416c-d4f7-c1976acf704c"
      },
      "outputs": [
        {
          "data": {
            "text/plain": [
              "1"
            ]
          },
          "execution_count": 460,
          "metadata": {},
          "output_type": "execute_result"
        }
      ],
      "source": [
        "int(1.9)"
      ]
    },
    {
      "cell_type": "markdown",
      "metadata": {
        "id": "_Vx_rw43x-11"
      },
      "source": [
        "# python基礎運算"
      ]
    },
    {
      "cell_type": "markdown",
      "metadata": {
        "id": "-iV1rrZmx-12"
      },
      "source": [
        "加法"
      ]
    },
    {
      "cell_type": "code",
      "execution_count": null,
      "metadata": {
        "id": "okXaa2t7x-12",
        "outputId": "1ead7420-d3f2-49d2-fbea-5ce7e99ab8d1"
      },
      "outputs": [
        {
          "data": {
            "text/plain": [
              "2"
            ]
          },
          "execution_count": 461,
          "metadata": {},
          "output_type": "execute_result"
        }
      ],
      "source": [
        "1+1"
      ]
    },
    {
      "cell_type": "markdown",
      "metadata": {
        "id": "XCDXapyOx-12"
      },
      "source": [
        "減法"
      ]
    },
    {
      "cell_type": "code",
      "execution_count": null,
      "metadata": {
        "id": "7BbIo0R6x-12",
        "outputId": "2aa4c9e8-675e-4f4b-e89a-ce5b23e2fd24"
      },
      "outputs": [
        {
          "data": {
            "text/plain": [
              "0"
            ]
          },
          "execution_count": 462,
          "metadata": {},
          "output_type": "execute_result"
        }
      ],
      "source": [
        "1-1"
      ]
    },
    {
      "cell_type": "markdown",
      "metadata": {
        "id": "wLreWJ3gx-12"
      },
      "source": [
        "乘法"
      ]
    },
    {
      "cell_type": "code",
      "execution_count": null,
      "metadata": {
        "id": "JG288wKEx-12",
        "outputId": "eae7610e-1c52-480c-e6d2-34fd4ade91ef"
      },
      "outputs": [
        {
          "data": {
            "text/plain": [
              "64"
            ]
          },
          "execution_count": 463,
          "metadata": {},
          "output_type": "execute_result"
        }
      ],
      "source": [
        "8*8"
      ]
    },
    {
      "cell_type": "markdown",
      "metadata": {
        "id": "HBLHYJyfx-12"
      },
      "source": [
        "除法"
      ]
    },
    {
      "cell_type": "code",
      "execution_count": null,
      "metadata": {
        "id": "5LwWlVVtx-13",
        "outputId": "be5bb194-3e2f-4d4b-923c-65db658f3550"
      },
      "outputs": [
        {
          "data": {
            "text/plain": [
              "4.5"
            ]
          },
          "execution_count": 464,
          "metadata": {},
          "output_type": "execute_result"
        }
      ],
      "source": [
        "9/2"
      ]
    },
    {
      "cell_type": "markdown",
      "metadata": {
        "id": "yYTI8vbEx-13"
      },
      "source": [
        "次方"
      ]
    },
    {
      "cell_type": "code",
      "execution_count": null,
      "metadata": {
        "id": "1yefD1Zqx-13",
        "outputId": "cecb8476-ee39-4988-9684-04a4a9fa1d5b"
      },
      "outputs": [
        {
          "data": {
            "text/plain": [
              "256"
            ]
          },
          "execution_count": 465,
          "metadata": {},
          "output_type": "execute_result"
        }
      ],
      "source": [
        "2**8"
      ]
    },
    {
      "cell_type": "markdown",
      "metadata": {
        "id": "JCNqMLOYx-13"
      },
      "source": [
        "次方根"
      ]
    },
    {
      "cell_type": "code",
      "execution_count": null,
      "metadata": {
        "scrolled": true,
        "id": "Ezifmv1cx-13",
        "outputId": "608fcd15-c0fe-4335-e348-16c51637e791"
      },
      "outputs": [
        {
          "data": {
            "text/plain": [
              "3.0"
            ]
          },
          "execution_count": 466,
          "metadata": {},
          "output_type": "execute_result"
        }
      ],
      "source": [
        "9**(1/2)"
      ]
    },
    {
      "cell_type": "markdown",
      "metadata": {
        "id": "pE-pStbex-13"
      },
      "source": [
        "# 我們也可以令符號來做運算"
      ]
    },
    {
      "cell_type": "code",
      "execution_count": null,
      "metadata": {
        "id": "3oYBOwUBx-13",
        "outputId": "99ecaf58-7907-4d75-8527-631c1e652e53"
      },
      "outputs": [
        {
          "name": "stdout",
          "output_type": "stream",
          "text": [
            "13\n",
            "-7\n",
            "7\n",
            "30\n",
            "0.3\n"
          ]
        }
      ],
      "source": [
        "a=3\n",
        "b=10\n",
        "print(a+b)\n",
        "print(a-b)\n",
        "print(abs(a-b))\n",
        "print(a*b)\n",
        "print(a/b)"
      ]
    },
    {
      "cell_type": "code",
      "execution_count": null,
      "metadata": {
        "id": "LcTfo-W_x-14",
        "outputId": "02813c78-7e0d-4611-a1e6-a96fbf33efbe"
      },
      "outputs": [
        {
          "name": "stdout",
          "output_type": "stream",
          "text": [
            "the total of a and b is 13\n"
          ]
        }
      ],
      "source": [
        "a = 3\n",
        "b = 10\n",
        "total = a+b\n",
        "print(\"the total of a and b is\",total )"
      ]
    },
    {
      "cell_type": "markdown",
      "metadata": {
        "id": "YfFcNlEhx-14"
      },
      "source": [
        "# 我們也可以先寫好程式，然後再輸入數字進去"
      ]
    },
    {
      "cell_type": "markdown",
      "metadata": {
        "id": "MRvdWATGx-14"
      },
      "source": [
        "使用者輸入"
      ]
    },
    {
      "cell_type": "code",
      "execution_count": null,
      "metadata": {
        "id": "jE2dma16x-14",
        "outputId": "83a2a018-fe8b-4c56-d83b-51146c26c231"
      },
      "outputs": [
        {
          "name": "stdout",
          "output_type": "stream",
          "text": [
            "12\n"
          ]
        },
        {
          "data": {
            "text/plain": [
              "str"
            ]
          },
          "execution_count": 469,
          "metadata": {},
          "output_type": "execute_result"
        }
      ],
      "source": [
        "a = input()\n",
        "type(a)"
      ]
    },
    {
      "cell_type": "code",
      "execution_count": null,
      "metadata": {
        "id": "NGzkiassx-14",
        "outputId": "274406fd-6afc-444b-b810-e33ee6623166"
      },
      "outputs": [
        {
          "name": "stdout",
          "output_type": "stream",
          "text": [
            "\n",
            "\n",
            "\n"
          ]
        },
        {
          "data": {
            "text/plain": [
              "str"
            ]
          },
          "execution_count": 470,
          "metadata": {},
          "output_type": "execute_result"
        }
      ],
      "source": [
        "a = input()\n",
        "b = input()\n",
        "print(a+b)\n",
        "type(a+b)"
      ]
    },
    {
      "cell_type": "code",
      "execution_count": null,
      "metadata": {
        "id": "NjqrDKJ3x-14",
        "outputId": "aec94be7-10cd-4ab5-c35e-679459588537"
      },
      "outputs": [
        {
          "name": "stdout",
          "output_type": "stream",
          "text": [
            "12\n",
            "23\n",
            "35.0\n",
            "-11.0\n",
            "11.0\n",
            "276.0\n",
            "0.5217391304347826\n"
          ]
        }
      ],
      "source": [
        "a = float(input())\n",
        "b = float(input())\n",
        "print(a+b)\n",
        "print(a-b)\n",
        "print(abs(a-b))\n",
        "print(a*b)\n",
        "print(a/b)"
      ]
    },
    {
      "cell_type": "code",
      "execution_count": null,
      "metadata": {
        "id": "Lu5fEN_qx-15",
        "outputId": "cffd2224-580a-45ba-c435-9499c6cd3f8a"
      },
      "outputs": [
        {
          "name": "stdout",
          "output_type": "stream",
          "text": [
            "數字1為:23\n",
            "數字2為:32\n",
            "總和是: 55.0\n"
          ]
        }
      ],
      "source": [
        "a = float(input(\"數字1為:\"))\n",
        "b = float(input(\"數字2為:\"))\n",
        "print(\"總和是:\",a+b)"
      ]
    },
    {
      "cell_type": "markdown",
      "metadata": {
        "id": "uCH70qoLx-15"
      },
      "source": [
        "# Q1: 今天你手上有x個1000元，y個100元，z個50元，w個10元，y個1元，請問你有多少錢？ 先寫好程式再用input函數輸入x,y,z,w,y!!"
      ]
    },
    {
      "cell_type": "markdown",
      "metadata": {
        "id": "QBzgAFqhx-16"
      },
      "source": [
        "# (1-1) x = 10 y=2 z = 3 w = 20 y = 10"
      ]
    },
    {
      "cell_type": "markdown",
      "metadata": {
        "id": "M3opDnuGx-16"
      },
      "source": [
        "# (1-2) x=20 y= 10 z =3 w=0 y=1"
      ]
    },
    {
      "cell_type": "markdown",
      "metadata": {
        "id": "oIs8hyUEx-16"
      },
      "source": [
        "# (1-3) x= 0 y=3 z=0 w=0 y=100"
      ]
    },
    {
      "cell_type": "markdown",
      "metadata": {
        "id": "2qRiCgBIx-16"
      },
      "source": [
        "對數"
      ]
    },
    {
      "cell_type": "code",
      "execution_count": null,
      "metadata": {
        "id": "i6JQXEITx-16",
        "outputId": "3c6fc9df-3acb-40fb-a40b-c9929f143fe5"
      },
      "outputs": [
        {
          "ename": "NameError",
          "evalue": "name 'log' is not defined",
          "output_type": "error",
          "traceback": [
            "\u001b[1;31m---------------------------------------------------------------------------\u001b[0m",
            "\u001b[1;31mNameError\u001b[0m                                 Traceback (most recent call last)",
            "\u001b[1;32m<ipython-input-548-0a816b14e1a2>\u001b[0m in \u001b[0;36m<module>\u001b[1;34m\u001b[0m\n\u001b[1;32m----> 1\u001b[1;33m \u001b[0mlog\u001b[0m\u001b[1;33m(\u001b[0m\u001b[1;36m10\u001b[0m\u001b[1;33m)\u001b[0m\u001b[1;33m\u001b[0m\u001b[1;33m\u001b[0m\u001b[0m\n\u001b[0m",
            "\u001b[1;31mNameError\u001b[0m: name 'log' is not defined"
          ]
        }
      ],
      "source": [
        "log(10)"
      ]
    },
    {
      "cell_type": "markdown",
      "metadata": {
        "id": "Zn8r9_QGx-16"
      },
      "source": [
        "# 事實上python內建沒有對數的功能，因此我們引入一個套件numpy"
      ]
    },
    {
      "cell_type": "code",
      "execution_count": null,
      "metadata": {
        "id": "MIye3dQ7x-17"
      },
      "outputs": [],
      "source": [
        "import numpy as np"
      ]
    },
    {
      "cell_type": "markdown",
      "metadata": {
        "id": "bKIRK87Wx-17"
      },
      "source": [
        "# Or you don't want to rename numpy"
      ]
    },
    {
      "cell_type": "code",
      "execution_count": null,
      "metadata": {
        "id": "jZU1LBdlx-17"
      },
      "outputs": [],
      "source": [
        "import numpy"
      ]
    },
    {
      "cell_type": "code",
      "execution_count": null,
      "metadata": {
        "id": "a0onyNB9x-17",
        "outputId": "82cb6183-0101-4ad3-a0ae-a5898ce52a34"
      },
      "outputs": [
        {
          "data": {
            "text/plain": [
              "2.302585092994046"
            ]
          },
          "execution_count": 551,
          "metadata": {},
          "output_type": "execute_result"
        }
      ],
      "source": [
        "np.log(10)"
      ]
    },
    {
      "cell_type": "code",
      "execution_count": null,
      "metadata": {
        "id": "k8wdFdeFx-17",
        "outputId": "88dab69b-d1a4-46cb-abe7-2235cb45fad3"
      },
      "outputs": [
        {
          "data": {
            "text/plain": [
              "2.302585092994046"
            ]
          },
          "execution_count": 552,
          "metadata": {},
          "output_type": "execute_result"
        }
      ],
      "source": [
        "numpy.log(10)"
      ]
    },
    {
      "cell_type": "markdown",
      "metadata": {
        "id": "G2pU_QA4x-18"
      },
      "source": [
        "# 默認底數為自然指數e，試著把底數改掉"
      ]
    },
    {
      "cell_type": "code",
      "execution_count": null,
      "metadata": {
        "id": "NYyj8jRwx-18",
        "outputId": "69d7b580-0f44-4264-9eb7-e0bbd28b9dbe"
      },
      "outputs": [
        {
          "data": {
            "text/plain": [
              "1.0"
            ]
          },
          "execution_count": 553,
          "metadata": {},
          "output_type": "execute_result"
        }
      ],
      "source": [
        "np.log10(10)"
      ]
    },
    {
      "cell_type": "code",
      "execution_count": null,
      "metadata": {
        "id": "81bgVrHOx-18",
        "outputId": "3084a77a-7491-49da-a36f-a44f7fed390a"
      },
      "outputs": [
        {
          "data": {
            "text/plain": [
              "1.0"
            ]
          },
          "execution_count": 554,
          "metadata": {},
          "output_type": "execute_result"
        }
      ],
      "source": [
        "np.log2(2)"
      ]
    },
    {
      "cell_type": "code",
      "execution_count": null,
      "metadata": {
        "id": "8Cnbdz1Hx-18",
        "outputId": "505811bb-cd61-4b9c-b9e3-f8d38db389c9"
      },
      "outputs": [
        {
          "ename": "AttributeError",
          "evalue": "module 'numpy' has no attribute 'log3'",
          "output_type": "error",
          "traceback": [
            "\u001b[1;31m---------------------------------------------------------------------------\u001b[0m",
            "\u001b[1;31mAttributeError\u001b[0m                            Traceback (most recent call last)",
            "\u001b[1;32m<ipython-input-555-f8e342e14f10>\u001b[0m in \u001b[0;36m<module>\u001b[1;34m\u001b[0m\n\u001b[1;32m----> 1\u001b[1;33m \u001b[0mnp\u001b[0m\u001b[1;33m.\u001b[0m\u001b[0mlog3\u001b[0m\u001b[1;33m(\u001b[0m\u001b[1;36m27\u001b[0m\u001b[1;33m)\u001b[0m\u001b[1;33m\u001b[0m\u001b[1;33m\u001b[0m\u001b[0m\n\u001b[0m",
            "\u001b[1;32mD:\\anaconda\\lib\\site-packages\\numpy\\__init__.py\u001b[0m in \u001b[0;36m__getattr__\u001b[1;34m(attr)\u001b[0m\n\u001b[0;32m    212\u001b[0m                 \u001b[1;32mreturn\u001b[0m \u001b[0mTester\u001b[0m\u001b[1;33m\u001b[0m\u001b[1;33m\u001b[0m\u001b[0m\n\u001b[0;32m    213\u001b[0m             \u001b[1;32melse\u001b[0m\u001b[1;33m:\u001b[0m\u001b[1;33m\u001b[0m\u001b[1;33m\u001b[0m\u001b[0m\n\u001b[1;32m--> 214\u001b[1;33m                 raise AttributeError(\"module {!r} has no attribute \"\n\u001b[0m\u001b[0;32m    215\u001b[0m                                      \"{!r}\".format(__name__, attr))\n\u001b[0;32m    216\u001b[0m \u001b[1;33m\u001b[0m\u001b[0m\n",
            "\u001b[1;31mAttributeError\u001b[0m: module 'numpy' has no attribute 'log3'"
          ]
        }
      ],
      "source": [
        "np.log3(27)"
      ]
    },
    {
      "cell_type": "markdown",
      "metadata": {
        "id": "gD39t7SHx-18"
      },
      "source": [
        "# how? 換底公式 $log_a(b) = log_c(b) / log_c(a)$ "
      ]
    },
    {
      "cell_type": "code",
      "execution_count": null,
      "metadata": {
        "id": "wVnbQ4wox-18",
        "outputId": "88f86789-1c9f-4e63-84d9-c6880afbfaae"
      },
      "outputs": [
        {
          "data": {
            "text/plain": [
              "3.0"
            ]
          },
          "execution_count": 556,
          "metadata": {},
          "output_type": "execute_result"
        }
      ],
      "source": [
        "np.log(27)/np.log(3)"
      ]
    },
    {
      "cell_type": "markdown",
      "metadata": {
        "id": "Pdvw-lCtx-18"
      },
      "source": [
        "# numpy 中也有python中內建沒有的無理數"
      ]
    },
    {
      "cell_type": "code",
      "execution_count": null,
      "metadata": {
        "id": "qvU6zIvax-19",
        "outputId": "fcb83a71-b13f-4159-a4d0-77e69ce515b2"
      },
      "outputs": [
        {
          "data": {
            "text/plain": [
              "2.718281828459045"
            ]
          },
          "execution_count": 557,
          "metadata": {},
          "output_type": "execute_result"
        }
      ],
      "source": [
        "np.exp(1)"
      ]
    },
    {
      "cell_type": "code",
      "execution_count": null,
      "metadata": {
        "id": "HuuCtTvUx-19",
        "outputId": "16de5197-8eb8-48c0-cdd7-cab2d26a76e2"
      },
      "outputs": [
        {
          "data": {
            "text/plain": [
              "3.141592653589793"
            ]
          },
          "execution_count": 558,
          "metadata": {},
          "output_type": "execute_result"
        }
      ],
      "source": [
        "np.pi"
      ]
    },
    {
      "cell_type": "markdown",
      "metadata": {
        "id": "qgP36Ktbx-19"
      },
      "source": [
        "# 接下來我們要介紹 python裡面比較特別的運算符號"
      ]
    },
    {
      "cell_type": "markdown",
      "metadata": {
        "id": "yhGqrJVKx-19"
      },
      "source": [
        "取餘數"
      ]
    },
    {
      "cell_type": "code",
      "execution_count": null,
      "metadata": {
        "id": "RkFCOuv9x-19"
      },
      "outputs": [],
      "source": [
        "a = 2\n",
        "b = 5"
      ]
    },
    {
      "cell_type": "code",
      "execution_count": null,
      "metadata": {
        "id": "tcqpxQDgx-19",
        "outputId": "6a13d25d-1ffe-4e4d-ec42-f4ee8934d1e2"
      },
      "outputs": [
        {
          "data": {
            "text/plain": [
              "1"
            ]
          },
          "execution_count": 560,
          "metadata": {},
          "output_type": "execute_result"
        }
      ],
      "source": [
        "b%a"
      ]
    },
    {
      "cell_type": "code",
      "execution_count": null,
      "metadata": {
        "id": "aTkfHhL5x-1-",
        "outputId": "7b9ededf-b24e-404a-e32e-29428498b604"
      },
      "outputs": [
        {
          "data": {
            "text/plain": [
              "4"
            ]
          },
          "execution_count": 561,
          "metadata": {},
          "output_type": "execute_result"
        }
      ],
      "source": [
        "2**10%10"
      ]
    },
    {
      "cell_type": "markdown",
      "metadata": {
        "id": "7C-70iATx-1-"
      },
      "source": [
        "取整數"
      ]
    },
    {
      "cell_type": "code",
      "execution_count": null,
      "metadata": {
        "id": "l4Bw__uJx-1-",
        "outputId": "5126f9ac-ce84-47e7-8e62-31a7573eb88a"
      },
      "outputs": [
        {
          "data": {
            "text/plain": [
              "2"
            ]
          },
          "execution_count": 562,
          "metadata": {},
          "output_type": "execute_result"
        }
      ],
      "source": [
        "b//a"
      ]
    },
    {
      "cell_type": "code",
      "execution_count": null,
      "metadata": {
        "id": "Lu-oQXDux-1-",
        "outputId": "3bfea06e-ef2f-430f-e467-a4472470029c"
      },
      "outputs": [
        {
          "data": {
            "text/plain": [
              "102"
            ]
          },
          "execution_count": 563,
          "metadata": {},
          "output_type": "execute_result"
        }
      ],
      "source": [
        "2**10//10"
      ]
    },
    {
      "cell_type": "code",
      "execution_count": null,
      "metadata": {
        "id": "WTSjIlvkx-1-",
        "outputId": "5378b9dd-781a-4623-bace-37dc4100c3ad"
      },
      "outputs": [
        {
          "data": {
            "text/plain": [
              "1020"
            ]
          },
          "execution_count": 564,
          "metadata": {},
          "output_type": "execute_result"
        }
      ],
      "source": [
        "10*102"
      ]
    },
    {
      "cell_type": "markdown",
      "metadata": {
        "id": "u8fJaDSRx-1-"
      },
      "source": [
        "# 忘記這些運算符號怎麼辦？"
      ]
    },
    {
      "cell_type": "markdown",
      "metadata": {
        "id": "7oyDsdUYx-1-"
      },
      "source": [
        "取整數"
      ]
    },
    {
      "cell_type": "code",
      "execution_count": null,
      "metadata": {
        "id": "l8wPJASdx-1_",
        "outputId": "f6308f1f-32f2-407e-86c1-8a021c76ad9d"
      },
      "outputs": [
        {
          "data": {
            "text/plain": [
              "102"
            ]
          },
          "execution_count": 565,
          "metadata": {},
          "output_type": "execute_result"
        }
      ],
      "source": [
        "int(2**10/10)"
      ]
    },
    {
      "cell_type": "markdown",
      "metadata": {
        "id": "E44Qupyjx-1_"
      },
      "source": [
        "取餘數"
      ]
    },
    {
      "cell_type": "code",
      "execution_count": null,
      "metadata": {
        "id": "cm5TSbUwx-1_",
        "outputId": "08d86163-3b27-4341-ce2a-a840f247bd44"
      },
      "outputs": [
        {
          "data": {
            "text/plain": [
              "4"
            ]
          },
          "execution_count": 566,
          "metadata": {},
          "output_type": "execute_result"
        }
      ],
      "source": [
        "2**10 - 10*int(2**10/10)"
      ]
    },
    {
      "cell_type": "markdown",
      "metadata": {
        "id": "wHnigFFQx-1_"
      },
      "source": [
        "# Q2 : 若今天你手上有x個1000元，y個100元，z個10元，你要買一個d元的東西，你需要付多少張1000元，多少張100元，多少張10元才可以讓店家不找零？用取整數的運算和input函數試試看，注意我們能付大鈔就赴大鈔，例如110元會用1張100和1個十元，而不是11個十元。"
      ]
    },
    {
      "cell_type": "markdown",
      "metadata": {
        "id": "F3QWQkoOx-1_"
      },
      "source": [
        "# (2-1)  x=3,y=1,z=2,d=1120"
      ]
    },
    {
      "cell_type": "markdown",
      "metadata": {
        "id": "Nd2S3_bOx-1_"
      },
      "source": [
        "# (2-2) x=4,y=2,z=3,d=2130"
      ]
    },
    {
      "cell_type": "markdown",
      "metadata": {
        "id": "1IpWJip2x-1_"
      },
      "source": [
        "# (2-3) x=5,y=2,z=1,d=5210"
      ]
    },
    {
      "cell_type": "markdown",
      "metadata": {
        "id": "RKyEC7Z5x-1_"
      },
      "source": [
        "# Python中進階型別"
      ]
    },
    {
      "cell_type": "markdown",
      "metadata": {
        "id": "3LIHQ5TTx-2A"
      },
      "source": [
        "# list"
      ]
    },
    {
      "cell_type": "code",
      "execution_count": null,
      "metadata": {
        "id": "N0S8eKEQx-2A",
        "outputId": "4bc43bed-7a4b-4917-8167-6f0215b3ab52"
      },
      "outputs": [
        {
          "name": "stdout",
          "output_type": "stream",
          "text": [
            "<class 'list'>\n",
            "<class 'list'>\n"
          ]
        }
      ],
      "source": [
        "a = list()\n",
        "b = []\n",
        "print(type(a))\n",
        "print(type(b))"
      ]
    },
    {
      "cell_type": "code",
      "execution_count": null,
      "metadata": {
        "id": "y4T_BodEx-2A"
      },
      "outputs": [],
      "source": [
        "a = list((1,2,3,4,5))"
      ]
    },
    {
      "cell_type": "code",
      "execution_count": null,
      "metadata": {
        "id": "3oy5PUVCx-2A",
        "outputId": "6966a345-cdb4-426e-8df7-2e69e7b7f50c"
      },
      "outputs": [
        {
          "data": {
            "text/plain": [
              "[1, 2, 3, 4, 5]"
            ]
          },
          "execution_count": 569,
          "metadata": {},
          "output_type": "execute_result"
        }
      ],
      "source": [
        "a"
      ]
    },
    {
      "cell_type": "code",
      "execution_count": null,
      "metadata": {
        "id": "6KuMLGi_x-2B"
      },
      "outputs": [],
      "source": [
        "b = [1,2,3,4,5]"
      ]
    },
    {
      "cell_type": "code",
      "execution_count": null,
      "metadata": {
        "id": "S9FK36ZPx-2B",
        "outputId": "e8fa4cb9-379f-41a1-de6b-988c04a1364a"
      },
      "outputs": [
        {
          "data": {
            "text/plain": [
              "[1, 2, 3, 4, 5]"
            ]
          },
          "execution_count": 571,
          "metadata": {},
          "output_type": "execute_result"
        }
      ],
      "source": [
        "b"
      ]
    },
    {
      "cell_type": "code",
      "execution_count": null,
      "metadata": {
        "id": "EW86MQoTx-2B"
      },
      "outputs": [],
      "source": [
        "c = [\"1\",\"?\",\"NCCU\"]"
      ]
    },
    {
      "cell_type": "code",
      "execution_count": null,
      "metadata": {
        "id": "6S7W_6I4x-2B",
        "outputId": "cbbdb6a8-ea7a-4f8b-c86a-7156d5cf306d"
      },
      "outputs": [
        {
          "data": {
            "text/plain": [
              "['1', '?', 'NCCU']"
            ]
          },
          "execution_count": 573,
          "metadata": {},
          "output_type": "execute_result"
        }
      ],
      "source": [
        "c"
      ]
    },
    {
      "cell_type": "markdown",
      "metadata": {
        "id": "HTKfu_Dox-2B"
      },
      "source": [
        "list中的順序"
      ]
    },
    {
      "cell_type": "code",
      "execution_count": null,
      "metadata": {
        "id": "wkpyL8fdx-2B",
        "outputId": "55495636-1e47-42ce-8b8f-c73390f16f55"
      },
      "outputs": [
        {
          "data": {
            "text/plain": [
              "1"
            ]
          },
          "execution_count": 574,
          "metadata": {},
          "output_type": "execute_result"
        }
      ],
      "source": [
        "a[0]"
      ]
    },
    {
      "cell_type": "code",
      "execution_count": null,
      "metadata": {
        "id": "Mynj-NuNx-2C",
        "outputId": "85274e80-58ce-42fd-aa2b-b9775cbe3757"
      },
      "outputs": [
        {
          "data": {
            "text/plain": [
              "2"
            ]
          },
          "execution_count": 575,
          "metadata": {},
          "output_type": "execute_result"
        }
      ],
      "source": [
        "a[1]"
      ]
    },
    {
      "cell_type": "code",
      "execution_count": null,
      "metadata": {
        "id": "OoTddJ8jx-2C",
        "outputId": "a6bebbfe-1c7a-4234-f7ca-6f1090024bef"
      },
      "outputs": [
        {
          "data": {
            "text/plain": [
              "5"
            ]
          },
          "execution_count": 576,
          "metadata": {},
          "output_type": "execute_result"
        }
      ],
      "source": [
        "a[-1]"
      ]
    },
    {
      "cell_type": "code",
      "execution_count": null,
      "metadata": {
        "id": "_652exgox-2C",
        "outputId": "0689afaf-12bc-4df8-eff5-583847c9eba7"
      },
      "outputs": [
        {
          "data": {
            "text/plain": [
              "'NCCU'"
            ]
          },
          "execution_count": 577,
          "metadata": {},
          "output_type": "execute_result"
        }
      ],
      "source": [
        "c[-1]"
      ]
    },
    {
      "cell_type": "markdown",
      "metadata": {
        "id": "5lB8OMFcx-2C"
      },
      "source": [
        "我們也可以一次拿出list的好多個元素"
      ]
    },
    {
      "cell_type": "code",
      "execution_count": null,
      "metadata": {
        "id": "sD6WQFuAx-2C"
      },
      "outputs": [],
      "source": [
        "a = [1,2,3,4,5]"
      ]
    },
    {
      "cell_type": "code",
      "execution_count": null,
      "metadata": {
        "id": "KEJG8C8Bx-2C",
        "outputId": "9acddc2e-c9da-4277-eb60-8f56183b5ad6"
      },
      "outputs": [
        {
          "data": {
            "text/plain": [
              "[1, 2, 3, 4, 5]"
            ]
          },
          "execution_count": 579,
          "metadata": {},
          "output_type": "execute_result"
        }
      ],
      "source": [
        "a"
      ]
    },
    {
      "cell_type": "code",
      "execution_count": null,
      "metadata": {
        "id": "q2Pc5ha7x-2D",
        "outputId": "28d975b1-d84e-4053-d282-115d47b38862"
      },
      "outputs": [
        {
          "data": {
            "text/plain": [
              "[2, 3]"
            ]
          },
          "execution_count": 580,
          "metadata": {},
          "output_type": "execute_result"
        }
      ],
      "source": [
        "#[起始位置:終止位置:間隔],預設為[0:n:1]\n",
        "a[1:3:1]"
      ]
    },
    {
      "cell_type": "code",
      "execution_count": null,
      "metadata": {
        "id": "YgjdQooix-2D",
        "outputId": "ce839edf-763d-41da-d129-29b754edaac0"
      },
      "outputs": [
        {
          "data": {
            "text/plain": [
              "[1, 2, 3, 4, 5]"
            ]
          },
          "execution_count": 581,
          "metadata": {},
          "output_type": "execute_result"
        }
      ],
      "source": [
        "a[::]"
      ]
    },
    {
      "cell_type": "code",
      "execution_count": null,
      "metadata": {
        "id": "-YoI-0ZAx-2D",
        "outputId": "1a964e06-2a0b-4141-c64a-a1c6b2f3ef8b"
      },
      "outputs": [
        {
          "data": {
            "text/plain": [
              "[1, 2, 3, 4, 5]"
            ]
          },
          "execution_count": 582,
          "metadata": {},
          "output_type": "execute_result"
        }
      ],
      "source": [
        "a[0:5:1]"
      ]
    },
    {
      "cell_type": "code",
      "execution_count": null,
      "metadata": {
        "id": "omfxGonux-2D",
        "outputId": "a8d34b8b-3c02-4bbc-b509-aa9662061c2e"
      },
      "outputs": [
        {
          "data": {
            "text/plain": [
              "[1, 3, 5]"
            ]
          },
          "execution_count": 583,
          "metadata": {},
          "output_type": "execute_result"
        }
      ],
      "source": [
        "a[::2]"
      ]
    },
    {
      "cell_type": "code",
      "execution_count": null,
      "metadata": {
        "id": "hlJGZTccx-2D",
        "outputId": "2761ba25-ff92-44c7-d0b0-d4bb2a80b852"
      },
      "outputs": [
        {
          "data": {
            "text/plain": [
              "[1, 3]"
            ]
          },
          "execution_count": 584,
          "metadata": {},
          "output_type": "execute_result"
        }
      ],
      "source": [
        "a[:4:2]"
      ]
    },
    {
      "cell_type": "markdown",
      "metadata": {
        "id": "csgGQYeKx-2D"
      },
      "source": [
        "list的簡單運算"
      ]
    },
    {
      "cell_type": "code",
      "execution_count": null,
      "metadata": {
        "id": "WdFaStFkx-2E",
        "outputId": "f0af69c3-9793-432b-d19d-fb2b3b21def1"
      },
      "outputs": [
        {
          "data": {
            "text/plain": [
              "[1, 2, 3, 4, 5, 1, 2, 3, 4, 5]"
            ]
          },
          "execution_count": 585,
          "metadata": {},
          "output_type": "execute_result"
        }
      ],
      "source": [
        "a+b"
      ]
    },
    {
      "cell_type": "code",
      "execution_count": null,
      "metadata": {
        "id": "7gPnHIkRx-2E",
        "outputId": "5b45f9ff-bbb8-42b9-9627-f95062af22b0"
      },
      "outputs": [
        {
          "data": {
            "text/plain": [
              "array([1.        , 1.41421356, 1.73205081, 2.        , 2.23606798])"
            ]
          },
          "execution_count": 586,
          "metadata": {},
          "output_type": "execute_result"
        }
      ],
      "source": [
        "np.sqrt(a)"
      ]
    },
    {
      "cell_type": "code",
      "execution_count": null,
      "metadata": {
        "id": "drd4wenQx-2E",
        "outputId": "c4703a9f-b141-429c-eab9-c797907fd76c"
      },
      "outputs": [
        {
          "data": {
            "text/plain": [
              "[1, 2, 3, 4, 5]"
            ]
          },
          "execution_count": 587,
          "metadata": {},
          "output_type": "execute_result"
        }
      ],
      "source": [
        "a"
      ]
    },
    {
      "cell_type": "code",
      "execution_count": null,
      "metadata": {
        "id": "6MMApvYIx-2E",
        "outputId": "7daf4f2a-3f07-4870-adff-daba5aa10345"
      },
      "outputs": [
        {
          "data": {
            "text/plain": [
              "120"
            ]
          },
          "execution_count": 588,
          "metadata": {},
          "output_type": "execute_result"
        }
      ],
      "source": [
        "np.prod(a)"
      ]
    },
    {
      "cell_type": "markdown",
      "metadata": {
        "id": "_pJvKHdex-2E"
      },
      "source": [
        "sqrt=square root"
      ]
    },
    {
      "cell_type": "markdown",
      "metadata": {
        "id": "kQy5Bmkkx-2E"
      },
      "source": [
        "在list中新增元素"
      ]
    },
    {
      "cell_type": "code",
      "execution_count": null,
      "metadata": {
        "id": "sYwB5Zkux-2F"
      },
      "outputs": [],
      "source": [
        "a.append(6)"
      ]
    },
    {
      "cell_type": "code",
      "execution_count": null,
      "metadata": {
        "id": "s8WoC_V_x-2F",
        "outputId": "42946810-ac1b-40a7-ecbf-d17be0c62e0c"
      },
      "outputs": [
        {
          "data": {
            "text/plain": [
              "[1, 2, 3, 4, 5, 6]"
            ]
          },
          "execution_count": 590,
          "metadata": {},
          "output_type": "execute_result"
        }
      ],
      "source": [
        "a"
      ]
    },
    {
      "cell_type": "markdown",
      "metadata": {
        "id": "4lCcG0AKx-2F"
      },
      "source": [
        "list也可以合併在一起"
      ]
    },
    {
      "cell_type": "code",
      "execution_count": null,
      "metadata": {
        "id": "inO-GCqlx-2F"
      },
      "outputs": [],
      "source": [
        "a = [1,2,3,4,5]\n",
        "b = [2,3,4,5]"
      ]
    },
    {
      "cell_type": "code",
      "execution_count": null,
      "metadata": {
        "id": "jkKgG9Wrx-2F"
      },
      "outputs": [],
      "source": [
        "a.extend(b)"
      ]
    },
    {
      "cell_type": "code",
      "execution_count": null,
      "metadata": {
        "id": "HDC9B9cDx-2F",
        "outputId": "a532166f-655f-410f-fe10-4069cf816cd9"
      },
      "outputs": [
        {
          "data": {
            "text/plain": [
              "[1, 2, 3, 4, 5, 2, 3, 4, 5]"
            ]
          },
          "execution_count": 593,
          "metadata": {},
          "output_type": "execute_result"
        }
      ],
      "source": [
        "a"
      ]
    },
    {
      "cell_type": "markdown",
      "metadata": {
        "id": "d8HoSe7lx-2F"
      },
      "source": [
        "也可以在list中插入元素"
      ]
    },
    {
      "cell_type": "code",
      "execution_count": null,
      "metadata": {
        "id": "6pME73nkx-2G"
      },
      "outputs": [],
      "source": [
        "a = [1,2,3,4,5]\n"
      ]
    },
    {
      "cell_type": "code",
      "execution_count": null,
      "metadata": {
        "id": "2zkRE5qUx-2G"
      },
      "outputs": [],
      "source": [
        "a.insert(1,\"NCCU\") #(插入元素在list中的位置,插入的元素)"
      ]
    },
    {
      "cell_type": "code",
      "execution_count": null,
      "metadata": {
        "id": "Ez3MVUOlx-2G",
        "outputId": "57802e19-fd36-4139-e2ab-c2aafb17d27e"
      },
      "outputs": [
        {
          "data": {
            "text/plain": [
              "[1, 'NCCU', 2, 3, 4, 5]"
            ]
          },
          "execution_count": 596,
          "metadata": {},
          "output_type": "execute_result"
        }
      ],
      "source": [
        "a"
      ]
    },
    {
      "cell_type": "markdown",
      "metadata": {
        "id": "_yoYJ0PAx-2G"
      },
      "source": [
        "在list移除元素"
      ]
    },
    {
      "cell_type": "code",
      "execution_count": null,
      "metadata": {
        "id": "Kh4sw-l8x-2G"
      },
      "outputs": [],
      "source": [
        "a = [1,2,3,4,5,6]"
      ]
    },
    {
      "cell_type": "code",
      "execution_count": null,
      "metadata": {
        "id": "BCbZ311dx-2G"
      },
      "outputs": [],
      "source": [
        "a.remove(6)"
      ]
    },
    {
      "cell_type": "code",
      "execution_count": null,
      "metadata": {
        "id": "CyrB--ocx-2G",
        "outputId": "3d43817a-e023-485b-f73a-f2a441ad4749"
      },
      "outputs": [
        {
          "data": {
            "text/plain": [
              "[1, 2, 3, 4, 5]"
            ]
          },
          "execution_count": 599,
          "metadata": {},
          "output_type": "execute_result"
        }
      ],
      "source": [
        "a"
      ]
    },
    {
      "cell_type": "markdown",
      "metadata": {
        "id": "5Uo7Xk26x-2H"
      },
      "source": [
        "也可以根據順序（索引值、index）"
      ]
    },
    {
      "cell_type": "code",
      "execution_count": null,
      "metadata": {
        "id": "i0R5oWxSx-2H",
        "outputId": "08561e18-f535-4c40-d660-9cdcb4b0a032"
      },
      "outputs": [
        {
          "data": {
            "text/plain": [
              "1"
            ]
          },
          "execution_count": 600,
          "metadata": {},
          "output_type": "execute_result"
        }
      ],
      "source": [
        "a.pop(0)"
      ]
    },
    {
      "cell_type": "code",
      "execution_count": null,
      "metadata": {
        "id": "8wf6FJfvx-2H",
        "outputId": "7b6a3d4d-04ea-415e-f895-881165e8a0cb"
      },
      "outputs": [
        {
          "data": {
            "text/plain": [
              "[2, 3, 4, 5]"
            ]
          },
          "execution_count": 601,
          "metadata": {},
          "output_type": "execute_result"
        }
      ],
      "source": [
        "a"
      ]
    },
    {
      "cell_type": "code",
      "execution_count": null,
      "metadata": {
        "id": "V3YW40eax-2H"
      },
      "outputs": [],
      "source": [
        "del a[0]"
      ]
    },
    {
      "cell_type": "code",
      "execution_count": null,
      "metadata": {
        "id": "z-x56-LVx-2H",
        "outputId": "1f2cb5bb-a23c-4039-a407-fcdd518e2184"
      },
      "outputs": [
        {
          "data": {
            "text/plain": [
              "[3, 4, 5]"
            ]
          },
          "execution_count": 603,
          "metadata": {},
          "output_type": "execute_result"
        }
      ],
      "source": [
        "a"
      ]
    },
    {
      "cell_type": "markdown",
      "metadata": {
        "id": "SlWELQTpx-2I"
      },
      "source": [
        "也可以直接刪除一個區間 用del(start:end)，注意我們不會刪到end那一個index"
      ]
    },
    {
      "cell_type": "code",
      "execution_count": null,
      "metadata": {
        "id": "JByGbH_Rx-2I"
      },
      "outputs": [],
      "source": [
        "del a[0:2]"
      ]
    },
    {
      "cell_type": "code",
      "execution_count": null,
      "metadata": {
        "id": "mA-ctwW_x-2I",
        "outputId": "e66b165b-5b59-4670-954b-46895d835feb"
      },
      "outputs": [
        {
          "data": {
            "text/plain": [
              "[5]"
            ]
          },
          "execution_count": 605,
          "metadata": {},
          "output_type": "execute_result"
        }
      ],
      "source": [
        "a"
      ]
    },
    {
      "cell_type": "markdown",
      "metadata": {
        "id": "D27LeXgHx-2I"
      },
      "source": [
        "我們也可以直接刪掉整個list裡面的值"
      ]
    },
    {
      "cell_type": "code",
      "execution_count": null,
      "metadata": {
        "id": "CRUkQ-pDx-2I"
      },
      "outputs": [],
      "source": [
        "a = [1,2,3,4,5,6,7]"
      ]
    },
    {
      "cell_type": "code",
      "execution_count": null,
      "metadata": {
        "id": "r087QOvUx-2I",
        "outputId": "0b259c05-1f34-4ad0-b1c8-e4ef0529f51c"
      },
      "outputs": [
        {
          "data": {
            "text/plain": [
              "[1, 2, 3, 4, 5, 6, 7]"
            ]
          },
          "execution_count": 607,
          "metadata": {},
          "output_type": "execute_result"
        }
      ],
      "source": [
        "a"
      ]
    },
    {
      "cell_type": "code",
      "execution_count": null,
      "metadata": {
        "id": "M4GUSziWx-2J"
      },
      "outputs": [],
      "source": [
        "a.clear()"
      ]
    },
    {
      "cell_type": "code",
      "execution_count": null,
      "metadata": {
        "id": "XLIyUlY8x-2J",
        "outputId": "fb6d0313-b8ca-4a60-dcfb-3769b417f516"
      },
      "outputs": [
        {
          "data": {
            "text/plain": [
              "[]"
            ]
          },
          "execution_count": 609,
          "metadata": {},
          "output_type": "execute_result"
        }
      ],
      "source": [
        "a"
      ]
    },
    {
      "cell_type": "markdown",
      "metadata": {
        "id": "4rMuyeRWx-2J"
      },
      "source": [
        "list裡面也可以有list"
      ]
    },
    {
      "cell_type": "code",
      "execution_count": null,
      "metadata": {
        "id": "NPbOAQELx-2J"
      },
      "outputs": [],
      "source": [
        "a = [1,2,3,[4,5,6,[3,3,4]],[2,3,6]]"
      ]
    },
    {
      "cell_type": "code",
      "execution_count": null,
      "metadata": {
        "id": "btnEQqabx-2J",
        "outputId": "8061864d-60fd-451e-c7a7-89ed43ebb012"
      },
      "outputs": [
        {
          "data": {
            "text/plain": [
              "[1, 2, 3, [4, 5, 6, [3, 3, 4]], [2, 3, 6]]"
            ]
          },
          "execution_count": 611,
          "metadata": {},
          "output_type": "execute_result"
        }
      ],
      "source": [
        "a"
      ]
    },
    {
      "cell_type": "code",
      "execution_count": null,
      "metadata": {
        "id": "XHWNxHTwx-2J",
        "outputId": "7d3372fe-852b-47d0-e784-9d8c5b28f277"
      },
      "outputs": [
        {
          "data": {
            "text/plain": [
              "[4, 5, 6, [3, 3, 4]]"
            ]
          },
          "execution_count": 612,
          "metadata": {},
          "output_type": "execute_result"
        }
      ],
      "source": [
        "a[3]"
      ]
    },
    {
      "cell_type": "code",
      "execution_count": null,
      "metadata": {
        "id": "L7Z6KCXHx-2J",
        "outputId": "a847d79b-2656-4f84-bf8a-68e53aa3bb21"
      },
      "outputs": [
        {
          "data": {
            "text/plain": [
              "[2, 3, 6]"
            ]
          },
          "execution_count": 613,
          "metadata": {},
          "output_type": "execute_result"
        }
      ],
      "source": [
        "a[4]"
      ]
    },
    {
      "cell_type": "markdown",
      "metadata": {
        "id": "ZZLQppVTx-2K"
      },
      "source": [
        "我們可以根據函數 len 知道list裡面有幾個元素"
      ]
    },
    {
      "cell_type": "code",
      "execution_count": null,
      "metadata": {
        "id": "YAXWkCGtx-2K",
        "outputId": "b418948a-efa9-41a2-c65c-f2827bddba45"
      },
      "outputs": [
        {
          "data": {
            "text/plain": [
              "5"
            ]
          },
          "execution_count": 614,
          "metadata": {},
          "output_type": "execute_result"
        }
      ],
      "source": [
        "len(a)"
      ]
    },
    {
      "cell_type": "code",
      "execution_count": null,
      "metadata": {
        "id": "o_FgL3u9x-2K",
        "outputId": "a5a15018-20cb-4bcb-9fd4-22e5723d6f54"
      },
      "outputs": [
        {
          "name": "stdout",
          "output_type": "stream",
          "text": [
            "[2, 3, 6]\n",
            "[2, 3, 6]\n"
          ]
        }
      ],
      "source": [
        "#呼叫最後一個元素\n",
        "print(a[len(a)-1])\n",
        "print(a[-1])"
      ]
    },
    {
      "cell_type": "markdown",
      "metadata": {
        "id": "EGSLbo-hx-2L"
      },
      "source": [
        "我們也可以透過.index找到元素在list裡面的位置"
      ]
    },
    {
      "cell_type": "code",
      "execution_count": null,
      "metadata": {
        "id": "DG-DCbQ1x-2L",
        "outputId": "ab9a1fb5-b037-4a15-ae2f-391b22ff4f12"
      },
      "outputs": [
        {
          "data": {
            "text/plain": [
              "[1, 2, 3, [4, 5, 6, [3, 3, 4]], [2, 3, 6]]"
            ]
          },
          "execution_count": 616,
          "metadata": {},
          "output_type": "execute_result"
        }
      ],
      "source": [
        "a"
      ]
    },
    {
      "cell_type": "code",
      "execution_count": null,
      "metadata": {
        "id": "LbLdF9sDx-2L",
        "outputId": "533a1940-6cfe-49f7-ecd9-93a5eb3fec4a"
      },
      "outputs": [
        {
          "data": {
            "text/plain": [
              "1"
            ]
          },
          "execution_count": 617,
          "metadata": {},
          "output_type": "execute_result"
        }
      ],
      "source": [
        "a.index(2)"
      ]
    },
    {
      "cell_type": "markdown",
      "metadata": {
        "id": "Ugu9s6uPx-2L"
      },
      "source": [
        "我們也可以透過.count找到元素出現的次數"
      ]
    },
    {
      "cell_type": "code",
      "execution_count": null,
      "metadata": {
        "id": "8vs2QXhVx-2M"
      },
      "outputs": [],
      "source": [
        "a = [1,1,1,2,3,4,5,5,5,5,5]"
      ]
    },
    {
      "cell_type": "code",
      "execution_count": null,
      "metadata": {
        "id": "zWd-IVhRx-2M",
        "outputId": "91d5abe5-c7d7-4761-b0c2-fdb295d76d10"
      },
      "outputs": [
        {
          "data": {
            "text/plain": [
              "3"
            ]
          },
          "execution_count": 619,
          "metadata": {},
          "output_type": "execute_result"
        }
      ],
      "source": [
        "a.count(1)"
      ]
    },
    {
      "cell_type": "markdown",
      "metadata": {
        "id": "DjlX3EKmx-2M"
      },
      "source": [
        "我們也可以直接改變list裡面的值"
      ]
    },
    {
      "cell_type": "code",
      "execution_count": null,
      "metadata": {
        "id": "wibgGIO-x-2M"
      },
      "outputs": [],
      "source": [
        "a[1] = 5"
      ]
    },
    {
      "cell_type": "code",
      "execution_count": null,
      "metadata": {
        "id": "yQWBbJ9Jx-2M",
        "outputId": "37c0684a-8eae-4813-c2d8-8e773a0abd04"
      },
      "outputs": [
        {
          "data": {
            "text/plain": [
              "[1, 5, 1, 2, 3, 4, 5, 5, 5, 5, 5]"
            ]
          },
          "execution_count": 621,
          "metadata": {},
          "output_type": "execute_result"
        }
      ],
      "source": [
        "a"
      ]
    },
    {
      "cell_type": "markdown",
      "metadata": {
        "id": "aOuKHWa0x-2N"
      },
      "source": [
        "list也可以排序"
      ]
    },
    {
      "cell_type": "code",
      "execution_count": null,
      "metadata": {
        "id": "B4emG-iKx-2N"
      },
      "outputs": [],
      "source": [
        "a=[3,4,5,2,1,8,9]"
      ]
    },
    {
      "cell_type": "code",
      "execution_count": null,
      "metadata": {
        "id": "MhCsXPWax-2N",
        "outputId": "a0f5b21c-d67c-4340-8ace-6e4a6aa79817"
      },
      "outputs": [
        {
          "data": {
            "text/plain": [
              "[3, 4, 5, 2, 1, 8, 9]"
            ]
          },
          "execution_count": 623,
          "metadata": {},
          "output_type": "execute_result"
        }
      ],
      "source": [
        "a"
      ]
    },
    {
      "cell_type": "code",
      "execution_count": null,
      "metadata": {
        "id": "71GrJ77Fx-2N"
      },
      "outputs": [],
      "source": [
        "a.sort()"
      ]
    },
    {
      "cell_type": "code",
      "execution_count": null,
      "metadata": {
        "id": "lGqV7q6ex-2N",
        "outputId": "c3b5eb2a-edcb-43c9-ae13-048235dd0be2"
      },
      "outputs": [
        {
          "data": {
            "text/plain": [
              "[1, 2, 3, 4, 5, 8, 9]"
            ]
          },
          "execution_count": 625,
          "metadata": {},
          "output_type": "execute_result"
        }
      ],
      "source": [
        "a"
      ]
    },
    {
      "cell_type": "code",
      "execution_count": null,
      "metadata": {
        "id": "ZWIBc3lSx-2O"
      },
      "outputs": [],
      "source": [
        "a.sort(reverse = True)"
      ]
    },
    {
      "cell_type": "code",
      "execution_count": null,
      "metadata": {
        "id": "XKSLs-hXx-2O",
        "outputId": "0717b947-718c-4a7e-9ce3-dd4b136e90e6"
      },
      "outputs": [
        {
          "data": {
            "text/plain": [
              "[9, 8, 5, 4, 3, 2, 1]"
            ]
          },
          "execution_count": 627,
          "metadata": {},
          "output_type": "execute_result"
        }
      ],
      "source": [
        "a"
      ]
    },
    {
      "cell_type": "markdown",
      "metadata": {
        "id": "Xn1xUnO8x-2O"
      },
      "source": [
        "list也可以透過reverse函數倒轉"
      ]
    },
    {
      "cell_type": "code",
      "execution_count": null,
      "metadata": {
        "id": "82zA9FWHx-2O"
      },
      "outputs": [],
      "source": [
        "a = [1,2,4,5,1,6]"
      ]
    },
    {
      "cell_type": "code",
      "execution_count": null,
      "metadata": {
        "id": "7E-2_pxgx-2O",
        "outputId": "364dcd29-0852-4311-8d2a-7b9e302a4a18"
      },
      "outputs": [
        {
          "data": {
            "text/plain": [
              "[1, 2, 4, 5, 1, 6]"
            ]
          },
          "execution_count": 629,
          "metadata": {},
          "output_type": "execute_result"
        }
      ],
      "source": [
        "a"
      ]
    },
    {
      "cell_type": "code",
      "execution_count": null,
      "metadata": {
        "id": "THCPURAnx-2O"
      },
      "outputs": [],
      "source": [
        "a.reverse()"
      ]
    },
    {
      "cell_type": "code",
      "execution_count": null,
      "metadata": {
        "id": "Sy3XcTECx-2O",
        "outputId": "8d637817-c737-4e24-afab-db350b1cf70a"
      },
      "outputs": [
        {
          "data": {
            "text/plain": [
              "[6, 1, 5, 4, 2, 1]"
            ]
          },
          "execution_count": 631,
          "metadata": {},
          "output_type": "execute_result"
        }
      ],
      "source": [
        "a"
      ]
    },
    {
      "cell_type": "markdown",
      "metadata": {
        "id": "oU2to96vx-2O"
      },
      "source": [
        "# Q3:現在令一個list a = [1,3,2,8,9,4,7,1,2,5,6]\n",
        "# (1) 請找出這個list中的第一個和最後一個數字。\n",
        "# (2) 幫我把list按照大到小排序\n",
        "# (3) 請幫我把list中重複的元素刪除\n",
        "# (4) 最後幫我讓list中的元素剛好等於1~10\n"
      ]
    },
    {
      "cell_type": "markdown",
      "metadata": {
        "id": "EFDqqnuCx-2P"
      },
      "source": [
        "# Python判斷式"
      ]
    },
    {
      "cell_type": "markdown",
      "metadata": {
        "id": "9sGr5K4cx-2P"
      },
      "source": [
        "如果我們想要知道兩個數字是否相等"
      ]
    },
    {
      "cell_type": "code",
      "execution_count": null,
      "metadata": {
        "id": "FgdtABMrx-2P",
        "outputId": "ae6b069c-164d-4d9d-ca7d-ec6d8302fcea"
      },
      "outputs": [
        {
          "data": {
            "text/plain": [
              "False"
            ]
          },
          "execution_count": 632,
          "metadata": {},
          "output_type": "execute_result"
        }
      ],
      "source": [
        "1==2"
      ]
    },
    {
      "cell_type": "code",
      "execution_count": null,
      "metadata": {
        "id": "KbYf6PE_x-2P",
        "outputId": "08260d70-edec-4116-ef7a-7fea08d49ea7"
      },
      "outputs": [
        {
          "data": {
            "text/plain": [
              "True"
            ]
          },
          "execution_count": 633,
          "metadata": {},
          "output_type": "execute_result"
        }
      ],
      "source": [
        "1 ==1 "
      ]
    },
    {
      "cell_type": "code",
      "execution_count": null,
      "metadata": {
        "id": "dj3o7W_fx-2P",
        "outputId": "02c27fe4-c7f8-45de-be4d-990a1e1a3677"
      },
      "outputs": [
        {
          "name": "stdout",
          "output_type": "stream",
          "text": [
            "False\n",
            "True\n"
          ]
        }
      ],
      "source": [
        "a = 1\n",
        "b = 2\n",
        "c = 1\n",
        "print(a==b)\n",
        "print(a==c)\n"
      ]
    },
    {
      "cell_type": "code",
      "execution_count": null,
      "metadata": {
        "id": "aGFdfQzEx-2P"
      },
      "outputs": [],
      "source": [
        "a = [1,2,3,4]\n",
        "b = [3,4,5,6]\n",
        "c = [1,2,3,4]"
      ]
    },
    {
      "cell_type": "code",
      "execution_count": null,
      "metadata": {
        "id": "6X9J3RGMx-2P",
        "outputId": "0e55034e-9f3c-451b-c810-aab20d392897"
      },
      "outputs": [
        {
          "name": "stdout",
          "output_type": "stream",
          "text": [
            "False\n",
            "True\n"
          ]
        }
      ],
      "source": [
        "print(a==b)\n",
        "print(a==c)\n"
      ]
    },
    {
      "cell_type": "markdown",
      "metadata": {
        "id": "jvmsmeWBx-2P"
      },
      "source": [
        "其實不等也可以"
      ]
    },
    {
      "cell_type": "code",
      "execution_count": null,
      "metadata": {
        "id": "ngBHKj8Xx-2Q",
        "outputId": "f8ab8230-eddc-4bf6-9319-a3c84cf2781e"
      },
      "outputs": [
        {
          "data": {
            "text/plain": [
              "True"
            ]
          },
          "execution_count": 637,
          "metadata": {},
          "output_type": "execute_result"
        }
      ],
      "source": [
        "1 != 2"
      ]
    },
    {
      "cell_type": "markdown",
      "metadata": {
        "id": "OC-jEMPtx-2Q"
      },
      "source": [
        "我們也可以確認任何東西是否在list裡面"
      ]
    },
    {
      "cell_type": "code",
      "execution_count": null,
      "metadata": {
        "id": "JvEL5YgKx-2Q",
        "outputId": "0e180a10-48d1-404d-800a-f1fa0af6bb18"
      },
      "outputs": [
        {
          "data": {
            "text/plain": [
              "True"
            ]
          },
          "execution_count": 638,
          "metadata": {},
          "output_type": "execute_result"
        }
      ],
      "source": [
        "a = [1,2,3,4,5,[1,2,3]]\n",
        "1 in a"
      ]
    },
    {
      "cell_type": "code",
      "execution_count": null,
      "metadata": {
        "id": "HhxQx1Iix-2Q",
        "outputId": "271e7ca5-6208-4873-b869-9a0dc9137e80"
      },
      "outputs": [
        {
          "data": {
            "text/plain": [
              "False"
            ]
          },
          "execution_count": 639,
          "metadata": {},
          "output_type": "execute_result"
        }
      ],
      "source": [
        "10 in a"
      ]
    },
    {
      "cell_type": "code",
      "execution_count": null,
      "metadata": {
        "id": "GIMN_p7Px-2Q",
        "outputId": "8ab45c28-518c-4d42-e4b1-9399640ca817"
      },
      "outputs": [
        {
          "data": {
            "text/plain": [
              "True"
            ]
          },
          "execution_count": 640,
          "metadata": {},
          "output_type": "execute_result"
        }
      ],
      "source": [
        "[1,2,3] in a"
      ]
    },
    {
      "cell_type": "markdown",
      "metadata": {
        "id": "1oXSEVOmx-2Q"
      },
      "source": [
        "# Q4:我們想知道自然數是否符合\n",
        "# 1.交換率\n",
        "# 2.結合律\n",
        "# 3.分配律\n",
        "# 透過python判斷式，用舉例的方式告訴我們是否符合。"
      ]
    },
    {
      "cell_type": "markdown",
      "metadata": {
        "id": "fmoJHgLwx-2Q"
      },
      "source": [
        "# HW"
      ]
    },
    {
      "cell_type": "markdown",
      "metadata": {
        "id": "v560fL8ix-2R"
      },
      "source": [
        "# Q1: 用python算算看 $\\frac{1}{\\sqrt{2\\pi}} \\times e^\\frac{-x^2}{2}$ 當 x = 0 x=1.96 x=1000 時的數值"
      ]
    },
    {
      "cell_type": "markdown",
      "metadata": {
        "id": "m6lNG15Ux-2R"
      },
      "source": [
        "# Q2 : 已知我們可以用 a = list(1,range(n+1)) 快速創造包含1~n的list，用a算出n!的值和 (n-k)!的值 ，當 n,k=2,1 n,k=10,5 n,k=10,7"
      ]
    },
    {
      "cell_type": "markdown",
      "metadata": {
        "id": "fhWIY_MWx-2R"
      },
      "source": [
        "# Q3 : 用python的判斷式，驗證 $  log_{10}(a)  = \\frac{log_e(a)}{log_e(10)}$ 當 a = 2 a=35 a=$2^{10}$"
      ]
    },
    {
      "cell_type": "markdown",
      "metadata": {
        "id": "kmc5bxhDx-2R"
      },
      "source": [
        "# Q4: 對 $2^1到2^{10}取餘數$ ，並且將這些餘數放到同一個list裡面，你觀察到了什麼？（提示：a=list() or a=[]可以創造空list。）"
      ]
    }
  ],
  "metadata": {
    "kernelspec": {
      "display_name": "Python 3",
      "language": "python",
      "name": "python3"
    },
    "language_info": {
      "codemirror_mode": {
        "name": "ipython",
        "version": 3
      },
      "file_extension": ".py",
      "mimetype": "text/x-python",
      "name": "python",
      "nbconvert_exporter": "python",
      "pygments_lexer": "ipython3",
      "version": "3.8.5"
    },
    "colab": {
      "provenance": []
    }
  },
  "nbformat": 4,
  "nbformat_minor": 0
}