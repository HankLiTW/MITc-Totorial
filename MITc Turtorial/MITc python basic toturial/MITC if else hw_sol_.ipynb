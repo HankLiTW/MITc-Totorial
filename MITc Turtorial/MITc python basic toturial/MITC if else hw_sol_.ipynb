{
  "nbformat": 4,
  "nbformat_minor": 0,
  "metadata": {
    "kernelspec": {
      "display_name": "Python 3",
      "language": "python",
      "name": "python3"
    },
    "language_info": {
      "codemirror_mode": {
        "name": "ipython",
        "version": 3
      },
      "file_extension": ".py",
      "mimetype": "text/x-python",
      "name": "python",
      "nbconvert_exporter": "python",
      "pygments_lexer": "ipython3",
      "version": "3.8.5"
    },
    "colab": {
      "provenance": []
    }
  },
  "cells": [
    {
      "cell_type": "markdown",
      "metadata": {
        "id": "FRRVhHN2Ua-f"
      },
      "source": [
        "# HW sol."
      ]
    },
    {
      "cell_type": "markdown",
      "metadata": {
        "id": "1Ti3FHNIUa-l"
      },
      "source": [
        "## 1.試試看寫一個函數去判斷四個數字之間的最小值。用 (1,2,3,4)去測試看看你的函數是否正確。"
      ]
    },
    {
      "cell_type": "code",
      "metadata": {
        "id": "Jk9RNGswUa-m"
      },
      "source": [
        "def fmin(a,b,c,d):\n",
        "    if a<=b:\n",
        "        if a<=c:\n",
        "            if a<=d :\n",
        "                min1 = a\n",
        "            else:\n",
        "                min1 = d\n",
        "        else:\n",
        "            if c<=d:\n",
        "                min1 = c\n",
        "            else :\n",
        "                min1 = d\n",
        "    else:\n",
        "        if b<=c:\n",
        "            if b<=d :\n",
        "                min1 = b\n",
        "            else:\n",
        "                min1 = d\n",
        "        else:\n",
        "            if c<=d:\n",
        "                min1 = c\n",
        "            else:\n",
        "                min1 = d\n",
        "    return(min1)"
      ],
      "execution_count": null,
      "outputs": []
    },
    {
      "cell_type": "code",
      "metadata": {
        "id": "ZqUNPItIUa-p",
        "outputId": "a8291dd1-4884-4f4c-e395-1310d63ac979"
      },
      "source": [
        "print(fmin(1,2,3,4))"
      ],
      "execution_count": null,
      "outputs": [
        {
          "name": "stdout",
          "output_type": "stream",
          "text": [
            "1\n"
          ]
        }
      ]
    },
    {
      "cell_type": "markdown",
      "metadata": {
        "id": "wcCww3-AUa-r"
      },
      "source": [
        "## 2.請寫一個函數去判斷，一個自然數k，是否同時為2跟3的倍數。用k = 10,1620,13!試試看。"
      ]
    },
    {
      "cell_type": "code",
      "metadata": {
        "id": "DmBSntPNUa-s"
      },
      "source": [
        "#sol1\n",
        "def f(k):\n",
        "    if k%2 == 0 and k%3==0:\n",
        "        return(k,\"同時為2和3的倍數\")\n",
        "    else:\n",
        "        return(k,\"不同時為2和3的倍數\")\n",
        "#sol2\n",
        "def g(k):\n",
        "    if k%6 ==0:\n",
        "        return(k,\"同時為2和3的倍數\")\n",
        "    else:\n",
        "        return(k,\"不同時為2和3的倍數\")"
      ],
      "execution_count": null,
      "outputs": []
    },
    {
      "cell_type": "code",
      "metadata": {
        "id": "SglgGoSbUa-t",
        "outputId": "da5c4f7a-9b27-46a0-a204-5766550d65bc"
      },
      "source": [
        "fac = 1*2*3*4*5*6*7*8*9*10*11*12*13\n",
        "print([f(10),g(10),f(1620),g(1620),f(fac),g(fac)])\n",
        "#這個寫法最多到12!，所以我們測試12!就好，13!會有問題，更正一下。"
      ],
      "execution_count": null,
      "outputs": [
        {
          "name": "stdout",
          "output_type": "stream",
          "text": [
            "[(10, '不同時為2和3的倍數'), (10, '不同時為2和3的倍數'), (1620, '同時為2和3的倍數'), (1620, '同時為2和3的倍數'), (6227020800, '同時為2和3的倍數'), (6227020800, '同時為2和3的倍數')]\n"
          ]
        }
      ]
    },
    {
      "cell_type": "markdown",
      "metadata": {
        "id": "l2TL2SdoUa-v"
      },
      "source": [
        "## 3.請寫一個函數去判斷，一個自然數k，是否為(1)7的倍數 (2)13的倍數。用k=52,k=91,k=10920,k=13!試試看。\n",
        "\n",
        "#### HINT：可以用list去做判斷，會快很多，注意，k可能同時為7和13的倍數。"
      ]
    },
    {
      "cell_type": "code",
      "metadata": {
        "id": "fQoVIU1eUa-x"
      },
      "source": [
        "fac = 1*2*3*4*5*6*7*8*9*10*11*12*13\n",
        "#sol1\n",
        "def f(k):\n",
        "    if k % 7 ==0 and k% 13 ==0:\n",
        "        return(k,\"同時為7和13的倍數\")\n",
        "    elif k%7 ==0:\n",
        "        return(k,\"為7的倍數\")\n",
        "    elif k%13 ==0 :\n",
        "        return(k,\"為13的倍數\")\n",
        "    else:\n",
        "        return(k,\"不為7和13的倍數\")\n",
        "#sol2\n",
        "def g(k):\n",
        "    judge = [1,2,3,4,5,6,7,8,9,10,11,12]\n",
        "    if k%7 not in judge and k%13 not in judge:\n",
        "        return(k,\"同時為7和13的倍數\")\n",
        "    elif k%7 not in judge:\n",
        "        return(k,\"為7的倍數\")\n",
        "    elif k%13 not in judge:\n",
        "        return(k,\"為13的倍數\")\n",
        "    else:\n",
        "        return(k,\"不為7和13的倍數\")"
      ],
      "execution_count": null,
      "outputs": []
    },
    {
      "cell_type": "code",
      "metadata": {
        "id": "T-Mj3QYEUa-y",
        "outputId": "cc689441-b75c-4c7c-b59e-834adbe407a9"
      },
      "source": [
        "print([f(52),g(52),f(91),g(91),f(fac),g(fac)])"
      ],
      "execution_count": null,
      "outputs": [
        {
          "name": "stdout",
          "output_type": "stream",
          "text": [
            "[(52, '為13的倍數'), (52, '為13的倍數'), (91, '同時為7和13的倍數'), (91, '同時為7和13的倍數'), (6227020800, '同時為7和13的倍數'), (6227020800, '同時為7和13的倍數')]\n"
          ]
        }
      ]
    },
    {
      "cell_type": "markdown",
      "metadata": {
        "id": "z6eTIBkGUa-z"
      },
      "source": [
        "## Q3:今天有一家餐廳，這家餐廳的收入和成本當天溫度有關係，如果當天會虧損，則餐廳就不開門了。\n",
        "## 假設\n",
        "## 收入$ I = e^{-t^2+\\frac{1}{t}} + \\frac{100}{t}$ \n",
        "## 成本 $C =1+log_e{( t^2+t+1)}$\n",
        "## 請問溫度為 (1) t=0.1 (2) t= 10 (3) t=15 (4) t=25 時 ， 餐廳會開門嗎？"
      ]
    },
    {
      "cell_type": "code",
      "metadata": {
        "id": "zrkj5kEqUa-1"
      },
      "source": [
        "import numpy as np\n",
        "def OpenClose(t):\n",
        "    income = np.exp(-t**2+1/t)+100/t\n",
        "    cost = 1+np.log(t**2+t+1)\n",
        "    if income - cost >= 0:\n",
        "        return(\"在溫度為\",t,\"餐廳會開門\")\n",
        "    else:\n",
        "        return(\"在溫度為\",t,\"餐廳不開門\")\n",
        "    "
      ],
      "execution_count": null,
      "outputs": []
    },
    {
      "cell_type": "code",
      "metadata": {
        "colab": {
          "base_uri": "https://localhost:8080/"
        },
        "id": "N7-Nem0iUa-2",
        "outputId": "31132910-bc86-4ed8-90db-7874fbc6e2be"
      },
      "source": [
        "print([OpenClose(0.1),OpenClose(10),OpenClose(15),OpenClose(25)])"
      ],
      "execution_count": null,
      "outputs": [
        {
          "output_type": "stream",
          "name": "stdout",
          "text": [
            "[('在溫度為', 0.1, '餐廳會開門'), ('在溫度為', 10, '餐廳會開門'), ('在溫度為', 15, '餐廳會開門'), ('在溫度為', 25, '餐廳不開門')]\n"
          ]
        }
      ]
    },
    {
      "cell_type": "markdown",
      "metadata": {
        "id": "Xb_UHyU4Ua-3"
      },
      "source": [
        "## Q4：承上提，如果我們將C分解為FC和VC，其中FC = 1 ,  $ VC =log_e{( t^2+t+1)}$ ，現在，若I>=VC就會開門，請判斷，當溫度為(1) t = 0.1 (2) t=10 (3) t=15 (4) t=25時，餐廳會開門嗎？如果會開門的話，餐廳今天是否有賺錢？"
      ]
    },
    {
      "cell_type": "code",
      "metadata": {
        "id": "49ubthr3Ua-6"
      },
      "source": [
        "import numpy as np\n",
        "def OpenClose(t):\n",
        "    income = np.exp(-t**2+1/t)+100/t\n",
        "    vc = np.log(t**2+t+1)\n",
        "    fc = 1\n",
        "    if income - vc >= 0:\n",
        "        if income - vc - fc >= 0:\n",
        "            return(\"在溫度為\",t,\"餐廳會開門\",\"獲利為\",income-vc-fc)\n",
        "        else:\n",
        "            return(\"在溫度為\",t,\"餐廳會開門\",\"虧損為\",income-vc-fc)\n",
        "    else:\n",
        "        return(\"在溫度為\",t,\"餐廳不開門\")"
      ],
      "execution_count": null,
      "outputs": []
    },
    {
      "cell_type": "code",
      "metadata": {
        "id": "Rc6eiGg1Ua-7",
        "outputId": "a0764e8c-051a-41f4-bdfe-7740a4bbe32d"
      },
      "source": [
        "print([OpenClose(0.1),OpenClose(10),OpenClose(15),OpenClose(16),OpenClose(25)])"
      ],
      "execution_count": null,
      "outputs": [
        {
          "name": "stdout",
          "output_type": "stream",
          "text": [
            "[('在溫度為', 0.1, '餐廳會開門', '獲利為', 22806.194438214807), ('在溫度為', 10, '餐廳會開門', '獲利為', 4.290469798687666), ('在溫度為', 15, '餐廳會開門', '獲利為', 0.18186973317601218), ('在溫度為', 16, '餐廳會開門', '虧損為', -0.35947179518495975), ('在溫度為', 25, '餐廳不開門')]\n"
          ]
        }
      ]
    },
    {
      "cell_type": "markdown",
      "metadata": {
        "id": "ecx3d-W2Ua-8"
      },
      "source": [
        "## Q5: 試著寫一個函數去排序三個數字的大小。用(1,2,3) (3,2,1) (2,1,3)去測試看看你的函數是否正確。"
      ]
    },
    {
      "cell_type": "code",
      "metadata": {
        "id": "BttSCAFJUa-8"
      },
      "source": [
        "### 找最大值\n",
        "def fmax(a,b,c):\n",
        "    if a>b:\n",
        "        if a>c:\n",
        "            max1 = a  \n",
        "        else :\n",
        "            max1 = c\n",
        "    else:\n",
        "        if b>c:\n",
        "            max1 = b\n",
        "        else:\n",
        "            max1 = c\n",
        "    return(max1)\n",
        "## 找最小值\n",
        "def fmin(a,b,c):\n",
        "    if a<=b:\n",
        "        if a<=c:\n",
        "            min1 = a\n",
        "        else:\n",
        "            min1 = c\n",
        "    else:\n",
        "        if b<=c:\n",
        "            min1 = b\n",
        "        else:\n",
        "            min1 = c\n",
        "    return(min1)\n",
        "def fsort(a,b,c):\n",
        "    min1 = fmin(a,b,c)\n",
        "    max1 = fmax(a,b,c)\n",
        "    if a == min1 :\n",
        "        if b == max1:\n",
        "            return(a,\"<=\",c,\"<=\",b)\n",
        "        else :\n",
        "            return(a,\"<=\",b,\"<=\",c)\n",
        "    elif a == max1:\n",
        "        if b == min1:\n",
        "            return(b,\"<=\",c,\"<=\",a)\n",
        "        else:\n",
        "            return(c,\"<=\",b,\"<=\",a)\n",
        "    else:\n",
        "        if b == max1:\n",
        "            return(c,\"<=\",a,\"<=\",b)\n",
        "        else:\n",
        "            return(b,\"<=\",a,\"<=\",c)"
      ],
      "execution_count": null,
      "outputs": []
    },
    {
      "cell_type": "code",
      "metadata": {
        "id": "O0fDH3b-Ua-9",
        "outputId": "8b9f1a68-8483-47f9-b02b-8382b316987c"
      },
      "source": [
        "print([fsort(1,2,3),fsort(3,2,1),fsort(2,1,3)])"
      ],
      "execution_count": null,
      "outputs": [
        {
          "name": "stdout",
          "output_type": "stream",
          "text": [
            "[(1, '<=', 2, '<=', 3), (1, '<=', 2, '<=', 3), (1, '<=', 2, '<=', 3)]\n"
          ]
        }
      ]
    },
    {
      "cell_type": "code",
      "metadata": {
        "id": "24cZu1nWUa-9"
      },
      "source": [],
      "execution_count": null,
      "outputs": []
    }
  ]
}