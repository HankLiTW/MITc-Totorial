{
  "nbformat": 4,
  "nbformat_minor": 0,
  "metadata": {
    "kernelspec": {
      "display_name": "Python 3",
      "language": "python",
      "name": "python3"
    },
    "language_info": {
      "codemirror_mode": {
        "name": "ipython",
        "version": 3
      },
      "file_extension": ".py",
      "mimetype": "text/x-python",
      "name": "python",
      "nbconvert_exporter": "python",
      "pygments_lexer": "ipython3",
      "version": "3.8.5"
    },
    "colab": {
      "provenance": [],
      "collapsed_sections": [
        "IbSTiUMa5V8p",
        "4rw6-oAB5V8q",
        "BFIfqumJ5V8r",
        "P0EGhYzd5V8r",
        "G8thxyko5V8s",
        "T3BEJIKR5V8t",
        "LVwQqvG35V8t",
        "dixhos_15V8t",
        "jwAoVMCk5V8u",
        "LNB-eWyO5V8v",
        "_kT8DC7L5V8v",
        "JiOOrtlS5V8w",
        "591_rJPq5V8w"
      ]
    }
  },
  "cells": [
    {
      "cell_type": "markdown",
      "metadata": {
        "id": "gsTxaIsh5V8Z"
      },
      "source": [
        "# SOL of HW LAST WEEK"
      ]
    },
    {
      "cell_type": "markdown",
      "metadata": {
        "id": "9TWY5VlV5V8c"
      },
      "source": [
        "# Q1: 用python算算看 $\\frac{1}{\\sqrt{2\\pi}} \\times e^\\frac{-x^2}{2}$ 當 x = 0 x=1.96 x=1000 時的數值"
      ]
    },
    {
      "cell_type": "code",
      "metadata": {
        "id": "MQuUN2xX5V8d"
      },
      "source": [
        "#Q1 sol\n",
        "import numpy as np\n",
        "x = float(input())\n",
        "ans = 1/np.sqrt(2*np.pi)*np.exp(-x**2/2)\n",
        "print(ans)"
      ],
      "execution_count": null,
      "outputs": []
    },
    {
      "cell_type": "markdown",
      "metadata": {
        "id": "xeB-sxYX5V8f"
      },
      "source": [
        "# Q2 : 已知我們可以用 a = list(range(1,n+1)) 快速創造包含1~n的list，用a算出n!的值和 (n-k)!的值 ，當 n,k=2,1 n,k=10,5 n,k=10,7"
      ]
    },
    {
      "cell_type": "code",
      "metadata": {
        "id": "x5QADALw5V8f",
        "outputId": "2ea275c3-1e73-4f5e-d06a-1f98d92e807c"
      },
      "source": [
        "#Q2 sol\n",
        "import numpy as np\n",
        "n = int(input())\n",
        "k = int(input())\n",
        "a = list(range(1,n+1))\n",
        "#n!\n",
        "ans1 = np.prod(a)\n",
        "#(n-k)\n",
        "a2 = list(range(1,n+1-k))\n",
        "ans2 = np.prod(a2)\n",
        "print(ans1,ans2)"
      ],
      "execution_count": null,
      "outputs": [
        {
          "name": "stdout",
          "output_type": "stream",
          "text": [
            "10\n",
            "5\n",
            "3628800 120\n"
          ]
        }
      ]
    },
    {
      "cell_type": "markdown",
      "metadata": {
        "id": "gbAMlCgA5V8g"
      },
      "source": [
        "# Q3 : 用python的判斷式，驗證 $  log_{10}(a)  = \\frac{log_e(a)}{log_e(10)}$ 當 a = 2 a=35 a=$2^{10}$"
      ]
    },
    {
      "cell_type": "code",
      "metadata": {
        "id": "dDROLJ-d5V8g",
        "outputId": "327d9f47-873b-4b92-cec3-db93c0f47bf4"
      },
      "source": [
        "#Q3 sol\n",
        "import numpy as np\n",
        "a = int(input())\n",
        "print(np.log10(a) == np.log(a)/np.log(10))\n",
        "print(np.log10(a))\n",
        "print(np.log(a)/np.log(10))\n",
        "# we sholud consider error in program 考慮誤差，若絕對值誤差小於小數點第三位，則接受\n",
        "print(abs(np.log10(a) - np.log(a)/np.log(10))<0.001)\n",
        "#or use round 例如下面是取到小數第三位就進位\n",
        "print(round(np.log10(a),3)==round(np.log(a)/np.log(10),3))"
      ],
      "execution_count": null,
      "outputs": [
        {
          "name": "stdout",
          "output_type": "stream",
          "text": [
            "2\n",
            "False\n",
            "0.3010299956639812\n",
            "0.30102999566398114\n",
            "True\n",
            "True\n"
          ]
        }
      ]
    },
    {
      "cell_type": "markdown",
      "metadata": {
        "id": "Vwz5EcTQ5V8h"
      },
      "source": [
        "# Q4: 對 $2^1到2^{10}取10餘數$ ，並且將這些餘數放到同一個list裡面，你觀察到了什麼？（提示：a=list() or a=[]可以創造空list。）"
      ]
    },
    {
      "cell_type": "code",
      "metadata": {
        "id": "eCzwp3cj5V8i",
        "outputId": "c8e4dcd5-bad9-4cda-cda0-8761fc48fb05"
      },
      "source": [
        "a = []\n",
        "a.append(2%10)\n",
        "a.append(2**2%10)\n",
        "a.append(2**3%10)\n",
        "a.append(2**4%10)\n",
        "a.append(2**5%10)\n",
        "a.append(2**6%10)\n",
        "a.append(2**7%10)\n",
        "a.append(2**8%10)\n",
        "a.append(2**9%10)\n",
        "a.append(2**10%10)\n",
        "a"
      ],
      "execution_count": null,
      "outputs": [
        {
          "data": {
            "text/plain": [
              "[2, 4, 8, 6, 2, 4, 8, 6, 2, 4]"
            ]
          },
          "execution_count": 272,
          "metadata": {},
          "output_type": "execute_result"
        }
      ]
    },
    {
      "cell_type": "code",
      "metadata": {
        "id": "eDTovkT95V8i"
      },
      "source": [
        "n = list(range(1,11))"
      ],
      "execution_count": null,
      "outputs": []
    },
    {
      "cell_type": "markdown",
      "metadata": {
        "id": "7sD74qCv5V8j"
      },
      "source": [
        "# We will review input, list, conditional statement(判斷式), function first"
      ]
    },
    {
      "cell_type": "markdown",
      "metadata": {
        "id": "PpP5xn9k5V8j"
      },
      "source": [
        "## input"
      ]
    },
    {
      "cell_type": "code",
      "metadata": {
        "id": "JzXyKA0Y5V8j",
        "outputId": "99b3719b-11f9-43e5-f631-502d2787bbbb"
      },
      "source": [
        "type(input())"
      ],
      "execution_count": null,
      "outputs": [
        {
          "name": "stdout",
          "output_type": "stream",
          "text": [
            "1\n"
          ]
        },
        {
          "data": {
            "text/plain": [
              "str"
            ]
          },
          "execution_count": 1,
          "metadata": {},
          "output_type": "execute_result"
        }
      ]
    },
    {
      "cell_type": "code",
      "metadata": {
        "id": "W7I0cWcd5V8k",
        "outputId": "0ec0b910-568d-4655-dbfc-556e3f19e42f"
      },
      "source": [
        "#Note that it cannot do mathematical operations.\n",
        "a = input()\n",
        "b = input()\n",
        "a+b"
      ],
      "execution_count": null,
      "outputs": [
        {
          "name": "stdout",
          "output_type": "stream",
          "text": [
            "1\n",
            "2\n"
          ]
        },
        {
          "data": {
            "text/plain": [
              "'12'"
            ]
          },
          "execution_count": 4,
          "metadata": {},
          "output_type": "execute_result"
        }
      ]
    },
    {
      "cell_type": "code",
      "metadata": {
        "id": "pTsQQKyI5V8k",
        "outputId": "7ec69d01-1452-4c16-8afa-ff2f3c7a5091"
      },
      "source": [
        "#Casting\n",
        "type(int(input()))"
      ],
      "execution_count": null,
      "outputs": [
        {
          "name": "stdout",
          "output_type": "stream",
          "text": [
            "1\n"
          ]
        },
        {
          "data": {
            "text/plain": [
              "int"
            ]
          },
          "execution_count": 2,
          "metadata": {},
          "output_type": "execute_result"
        }
      ]
    },
    {
      "cell_type": "code",
      "metadata": {
        "id": "ZH3xyqhN5V8k",
        "outputId": "a9667341-2cf4-4450-d87d-f05aaa694356"
      },
      "source": [
        "#After casting the type of input into int or float, we can do math operations.\n",
        "a = int(input())\n",
        "b = float(input())\n",
        "a+b"
      ],
      "execution_count": null,
      "outputs": [
        {
          "name": "stdout",
          "output_type": "stream",
          "text": [
            "1\n",
            "2\n"
          ]
        },
        {
          "data": {
            "text/plain": [
              "3.0"
            ]
          },
          "execution_count": 3,
          "metadata": {},
          "output_type": "execute_result"
        }
      ]
    },
    {
      "cell_type": "markdown",
      "metadata": {
        "id": "y-pQH3325V8l"
      },
      "source": [
        "## list"
      ]
    },
    {
      "cell_type": "code",
      "metadata": {
        "id": "KxWvjRp75V8l"
      },
      "source": [
        "a = [1,2,3,4]"
      ],
      "execution_count": null,
      "outputs": []
    },
    {
      "cell_type": "code",
      "metadata": {
        "id": "DHEJEfUk5V8l",
        "outputId": "2123f808-2b49-419b-bbf4-79c38915712e"
      },
      "source": [
        "type(a)"
      ],
      "execution_count": null,
      "outputs": [
        {
          "data": {
            "text/plain": [
              "list"
            ]
          },
          "execution_count": 6,
          "metadata": {},
          "output_type": "execute_result"
        }
      ]
    },
    {
      "cell_type": "code",
      "metadata": {
        "id": "HorBbbnT5V8l",
        "outputId": "32bf89da-5bf5-4758-ad63-ba8a062d3cd5"
      },
      "source": [
        "a = []\n",
        "type(a)"
      ],
      "execution_count": null,
      "outputs": [
        {
          "data": {
            "text/plain": [
              "list"
            ]
          },
          "execution_count": 19,
          "metadata": {},
          "output_type": "execute_result"
        }
      ]
    },
    {
      "cell_type": "code",
      "metadata": {
        "id": "l32xZhQB5V8m"
      },
      "source": [
        "a.append(1)"
      ],
      "execution_count": null,
      "outputs": []
    },
    {
      "cell_type": "code",
      "metadata": {
        "id": "VjlNmbIg5V8m",
        "outputId": "639e15d5-4b54-4ab8-e9d8-28508fc0a6ef"
      },
      "source": [
        "a"
      ],
      "execution_count": null,
      "outputs": [
        {
          "data": {
            "text/plain": [
              "[1]"
            ]
          },
          "execution_count": 21,
          "metadata": {},
          "output_type": "execute_result"
        }
      ]
    },
    {
      "cell_type": "code",
      "metadata": {
        "id": "-8ZP78Nz5V8m",
        "outputId": "e7bd7ac6-5de5-42e0-84b4-718869f847ae"
      },
      "source": [
        "a[0]"
      ],
      "execution_count": null,
      "outputs": [
        {
          "data": {
            "text/plain": [
              "1"
            ]
          },
          "execution_count": 22,
          "metadata": {},
          "output_type": "execute_result"
        }
      ]
    },
    {
      "cell_type": "code",
      "metadata": {
        "id": "c87qbbPy5V8m",
        "outputId": "0104909f-f30e-43fc-9124-069cc32cb4b1"
      },
      "source": [
        "a.index(1)"
      ],
      "execution_count": null,
      "outputs": [
        {
          "data": {
            "text/plain": [
              "0"
            ]
          },
          "execution_count": 23,
          "metadata": {},
          "output_type": "execute_result"
        }
      ]
    },
    {
      "cell_type": "code",
      "metadata": {
        "id": "iFXOfC8f5V8n"
      },
      "source": [
        "a.remove(1)"
      ],
      "execution_count": null,
      "outputs": []
    },
    {
      "cell_type": "code",
      "metadata": {
        "id": "UYtoy8sP5V8n",
        "outputId": "f03c8ac6-3e2c-4660-ab00-1863624bfcf0"
      },
      "source": [
        "a"
      ],
      "execution_count": null,
      "outputs": [
        {
          "data": {
            "text/plain": [
              "[]"
            ]
          },
          "execution_count": 25,
          "metadata": {},
          "output_type": "execute_result"
        }
      ]
    },
    {
      "cell_type": "code",
      "metadata": {
        "id": "EGF3tSfK5V8n",
        "outputId": "041b24f7-f69a-4064-dcb0-79fb95b4ac89"
      },
      "source": [
        "a = [1]\n",
        "a.pop(a.index(1))"
      ],
      "execution_count": null,
      "outputs": [
        {
          "data": {
            "text/plain": [
              "1"
            ]
          },
          "execution_count": 26,
          "metadata": {},
          "output_type": "execute_result"
        }
      ]
    },
    {
      "cell_type": "code",
      "metadata": {
        "id": "Auh5asar5V8n",
        "outputId": "e49c9bba-0e5b-42f9-d9f1-373e44acf9dc"
      },
      "source": [
        "a"
      ],
      "execution_count": null,
      "outputs": [
        {
          "data": {
            "text/plain": [
              "[]"
            ]
          },
          "execution_count": 27,
          "metadata": {},
          "output_type": "execute_result"
        }
      ]
    },
    {
      "cell_type": "markdown",
      "metadata": {
        "id": "yk1PYwi35V8n"
      },
      "source": [
        "## 判斷式"
      ]
    },
    {
      "cell_type": "code",
      "metadata": {
        "id": "JRb2WGDz5V8n",
        "outputId": "92015064-c372-41d7-ea61-a0c88e22e7c8"
      },
      "source": [
        "a = 1\n",
        "b = 2\n",
        "a==b"
      ],
      "execution_count": null,
      "outputs": [
        {
          "data": {
            "text/plain": [
              "False"
            ]
          },
          "execution_count": 28,
          "metadata": {},
          "output_type": "execute_result"
        }
      ]
    },
    {
      "cell_type": "code",
      "metadata": {
        "id": "VbITdHQw5V8o",
        "outputId": "d29856b7-b5ba-40ea-99e7-f19bc1d4fa2a"
      },
      "source": [
        "a!=b"
      ],
      "execution_count": null,
      "outputs": [
        {
          "data": {
            "text/plain": [
              "True"
            ]
          },
          "execution_count": 29,
          "metadata": {},
          "output_type": "execute_result"
        }
      ]
    },
    {
      "cell_type": "code",
      "metadata": {
        "id": "MiXZM9II5V8o",
        "outputId": "b741c01d-632a-4c07-97f9-b45286bcb023"
      },
      "source": [
        "a = [1,2,3]\n",
        "print(1 in a)\n",
        "print(4 in a)"
      ],
      "execution_count": null,
      "outputs": [
        {
          "name": "stdout",
          "output_type": "stream",
          "text": [
            "True\n",
            "False\n"
          ]
        }
      ]
    },
    {
      "cell_type": "markdown",
      "metadata": {
        "id": "roRCbr-z5V8o"
      },
      "source": [
        "## function"
      ]
    },
    {
      "cell_type": "code",
      "metadata": {
        "id": "Tb3HQKXe5V8o"
      },
      "source": [
        "def f(x):\n",
        "    return(x**2)"
      ],
      "execution_count": null,
      "outputs": []
    },
    {
      "cell_type": "code",
      "metadata": {
        "id": "f47EicKs5V8o",
        "outputId": "108dad59-c9cf-45e9-da41-0b3737fd5fd0"
      },
      "source": [
        "f(5)"
      ],
      "execution_count": null,
      "outputs": [
        {
          "data": {
            "text/plain": [
              "25"
            ]
          },
          "execution_count": 38,
          "metadata": {},
          "output_type": "execute_result"
        }
      ]
    },
    {
      "cell_type": "code",
      "metadata": {
        "id": "VXc1cYJV5V8p"
      },
      "source": [
        "def f(x):\n",
        "    print(x**2)"
      ],
      "execution_count": null,
      "outputs": []
    },
    {
      "cell_type": "code",
      "metadata": {
        "id": "Zwnni2rx5V8p",
        "outputId": "9eedb93f-b56e-47e8-edfd-f86cdc9d7dd9"
      },
      "source": [
        "f(5)"
      ],
      "execution_count": null,
      "outputs": [
        {
          "name": "stdout",
          "output_type": "stream",
          "text": [
            "25\n"
          ]
        }
      ]
    },
    {
      "cell_type": "code",
      "metadata": {
        "id": "JPuJ0xeo5V8p"
      },
      "source": [
        "def equal():\n",
        "    a = int(input())\n",
        "    b = int(input())\n",
        "    return(a==b)"
      ],
      "execution_count": null,
      "outputs": []
    },
    {
      "cell_type": "code",
      "metadata": {
        "id": "KH_Rb5wO5V8p",
        "outputId": "811913b7-aa41-435f-eca3-20c354bf4c6b"
      },
      "source": [
        "equal()"
      ],
      "execution_count": null,
      "outputs": [
        {
          "name": "stdout",
          "output_type": "stream",
          "text": [
            "2\n",
            "3\n"
          ]
        },
        {
          "data": {
            "text/plain": [
              "False"
            ]
          },
          "execution_count": 42,
          "metadata": {},
          "output_type": "execute_result"
        }
      ]
    },
    {
      "cell_type": "markdown",
      "metadata": {
        "id": "IbSTiUMa5V8p"
      },
      "source": [
        "### Q1:建立一個能夠自動判斷2**k/10的餘數是否等於 6**k/10的餘數的函數，用k=1,k=10,k=20,k=24去試試看。"
      ]
    },
    {
      "cell_type": "code",
      "metadata": {
        "id": "NPJwVmJQT01x"
      },
      "source": [
        "def equal():\n",
        "  a=2k/10\n",
        "  b="
      ],
      "execution_count": null,
      "outputs": []
    },
    {
      "cell_type": "markdown",
      "metadata": {
        "id": "nPEoBUFsT0a2"
      },
      "source": []
    },
    {
      "cell_type": "markdown",
      "metadata": {
        "id": "VJb7UP3b5V8p"
      },
      "source": [
        "## If else and elif"
      ]
    },
    {
      "cell_type": "markdown",
      "metadata": {
        "id": "PU_z4ci25V8q"
      },
      "source": [
        "## if else elif函數可以讓程式去判斷是否有滿足你所設定的函數，並且做出相對應的措施"
      ]
    },
    {
      "cell_type": "markdown",
      "metadata": {
        "id": "4rw6-oAB5V8q"
      },
      "source": [
        "### if"
      ]
    },
    {
      "cell_type": "code",
      "metadata": {
        "id": "EIhIGkFz5V8q",
        "outputId": "d43356d3-2417-49af-8f27-4b9f7f2e2b8d"
      },
      "source": [
        "a = int(input())\n",
        "if a==2 :\n",
        "    print(a,\"is two\")"
      ],
      "execution_count": null,
      "outputs": [
        {
          "name": "stdout",
          "output_type": "stream",
          "text": [
            "2\n",
            "2 is two\n"
          ]
        }
      ]
    },
    {
      "cell_type": "code",
      "metadata": {
        "id": "nMS-WhPP5V8q",
        "outputId": "73a325ef-d7fc-4589-ed6f-c0248a798dab"
      },
      "source": [
        "a = [1,3,2,4]\n",
        "b = int(input())\n",
        "if b in a :\n",
        "    print(\"the list has\",b)"
      ],
      "execution_count": null,
      "outputs": [
        {
          "name": "stdout",
          "output_type": "stream",
          "text": [
            "2\n",
            "the list has 2\n"
          ]
        }
      ]
    },
    {
      "cell_type": "markdown",
      "metadata": {
        "id": "CsWck6r95V8q"
      },
      "source": [
        "### else 用於如果不滿足你所設定的情況 我們該怎麼辦"
      ]
    },
    {
      "cell_type": "code",
      "metadata": {
        "id": "M9rWag855V8q",
        "outputId": "272d246b-7bc4-48ff-976e-9de6ee3d13f9"
      },
      "source": [
        "a = int(input())\n",
        "if a==2 :\n",
        "    print(a,\"is two\")\n",
        "else :\n",
        "    print(a,\"is not equal to two\")"
      ],
      "execution_count": null,
      "outputs": [
        {
          "name": "stdout",
          "output_type": "stream",
          "text": [
            "3\n",
            "3 is not equal to two\n"
          ]
        }
      ]
    },
    {
      "cell_type": "code",
      "metadata": {
        "id": "NRDsXuQ65V8q",
        "outputId": "933491bf-e8d2-4282-985a-2fa705653be1"
      },
      "source": [
        "a = [1,3,2,4]\n",
        "b = int(input())\n",
        "if b in a :\n",
        "    print(\"the list has\",b)\n",
        "else :\n",
        "    print(\"the list does not have\",b)"
      ],
      "execution_count": null,
      "outputs": [
        {
          "name": "stdout",
          "output_type": "stream",
          "text": [
            "10\n",
            "the list does not have 10\n"
          ]
        }
      ]
    },
    {
      "cell_type": "code",
      "metadata": {
        "id": "UpiDp5_G5V8r",
        "outputId": "c332eac8-a6de-4ee2-abe4-aca999c587a6"
      },
      "source": [
        "a = int(input())\n",
        "b = int(input())\n",
        "if a==2 and b==3:\n",
        "    print(a,\"is two\",b,\"is three\")\n",
        "else :\n",
        "    print(\"either\",a,\"is not equal to two\",\"or\",b,\"is not equal to three or neither\")"
      ],
      "execution_count": null,
      "outputs": [
        {
          "name": "stdout",
          "output_type": "stream",
          "text": [
            "2\n",
            "4\n",
            "either 2 is not equal to two or 4 is not equal to three or neither\n"
          ]
        }
      ]
    },
    {
      "cell_type": "markdown",
      "metadata": {
        "id": "BFIfqumJ5V8r"
      },
      "source": [
        "#### 型別判斷器"
      ]
    },
    {
      "cell_type": "code",
      "metadata": {
        "id": "_QJY66HP5V8r"
      },
      "source": [
        "def type_test(test):\n",
        "    if type(test) == int or type(test) == float:\n",
        "        return(test,\"is a number\")\n",
        "    else:\n",
        "        return(test,\"is not a number\")"
      ],
      "execution_count": null,
      "outputs": []
    },
    {
      "cell_type": "code",
      "metadata": {
        "id": "363WVzwa5V8r",
        "outputId": "62e2549d-ead4-44d2-bbd5-54445bd8670e"
      },
      "source": [
        "type_test(1)"
      ],
      "execution_count": null,
      "outputs": [
        {
          "name": "stdout",
          "output_type": "stream",
          "text": [
            "1 is a number\n"
          ]
        }
      ]
    },
    {
      "cell_type": "code",
      "metadata": {
        "id": "28cGIZXq5V8r",
        "outputId": "fef61056-c7cc-4e48-dc3b-5ecdec1f8e08"
      },
      "source": [
        "type_test(\"s\")"
      ],
      "execution_count": null,
      "outputs": [
        {
          "name": "stdout",
          "output_type": "stream",
          "text": [
            "s is not a number\n"
          ]
        }
      ]
    },
    {
      "cell_type": "markdown",
      "metadata": {
        "id": "P0EGhYzd5V8r"
      },
      "source": [
        "#### 判斷成績是否及格"
      ]
    },
    {
      "cell_type": "code",
      "metadata": {
        "id": "6AGdmYbZ5V8r"
      },
      "source": [
        "def PnF(score):\n",
        "    if score >= 60  :\n",
        "        return(\"Congrats, you pass the course!\")\n",
        "    else:\n",
        "        return(\"Sorry, you fail the course.\")"
      ],
      "execution_count": null,
      "outputs": []
    },
    {
      "cell_type": "code",
      "metadata": {
        "id": "Cgd6O-Fd5V8s",
        "outputId": "31b17abe-8668-412a-9f87-1d22764cc8a8"
      },
      "source": [
        "PnF(100)"
      ],
      "execution_count": null,
      "outputs": [
        {
          "data": {
            "text/plain": [
              "'Congrats, you pass the course!'"
            ]
          },
          "execution_count": 117,
          "metadata": {},
          "output_type": "execute_result"
        }
      ]
    },
    {
      "cell_type": "code",
      "metadata": {
        "id": "M96gCIpb5V8s",
        "outputId": "a09c4c99-c2b1-4eba-ca28-9fc825272239"
      },
      "source": [
        "PnF(59)"
      ],
      "execution_count": null,
      "outputs": [
        {
          "data": {
            "text/plain": [
              "'Sorry, you fail the course.'"
            ]
          },
          "execution_count": 118,
          "metadata": {},
          "output_type": "execute_result"
        }
      ]
    },
    {
      "cell_type": "code",
      "metadata": {
        "id": "6uN2lJif5V8s",
        "outputId": "5f1fea01-f43e-46de-b96f-730fafc5a981"
      },
      "source": [
        "PnF(60)"
      ],
      "execution_count": null,
      "outputs": [
        {
          "data": {
            "text/plain": [
              "'Congrats, you pass the course!'"
            ]
          },
          "execution_count": 119,
          "metadata": {},
          "output_type": "execute_result"
        }
      ]
    },
    {
      "cell_type": "markdown",
      "metadata": {
        "id": "G8thxyko5V8s"
      },
      "source": [
        "#### 判斷某個自然數k是否為2的倍數"
      ]
    },
    {
      "cell_type": "code",
      "metadata": {
        "id": "8vfLt6ww5V8s"
      },
      "source": [
        "def two_multi(k):\n",
        "    if k%2 == 0:\n",
        "        return(k,\"is the multiples of 2\")\n",
        "    else:\n",
        "        return(k,\"is not the multiples of 2\")"
      ],
      "execution_count": null,
      "outputs": []
    },
    {
      "cell_type": "code",
      "metadata": {
        "id": "kAkmRPun5V8s",
        "outputId": "75ef5269-92c8-4a17-c582-6f528fa4e8b6"
      },
      "source": [
        "two_multi(2)"
      ],
      "execution_count": null,
      "outputs": [
        {
          "data": {
            "text/plain": [
              "(2, 'is the multiples of 2')"
            ]
          },
          "execution_count": 106,
          "metadata": {},
          "output_type": "execute_result"
        }
      ]
    },
    {
      "cell_type": "code",
      "metadata": {
        "id": "eTdqywRW5V8t",
        "outputId": "af541ebb-685a-425f-ed2c-0d15b8e70e44"
      },
      "source": [
        "two_multi(1023)"
      ],
      "execution_count": null,
      "outputs": [
        {
          "data": {
            "text/plain": [
              "(1023, 'is not the multiples of 2')"
            ]
          },
          "execution_count": 107,
          "metadata": {},
          "output_type": "execute_result"
        }
      ]
    },
    {
      "cell_type": "markdown",
      "metadata": {
        "id": "T3BEJIKR5V8t"
      },
      "source": [
        "### Q2:請判斷某個自然數k是否為3的倍數, 用k = 27 , k=6**10,k=7!試試看"
      ]
    },
    {
      "cell_type": "markdown",
      "metadata": {
        "id": "LVwQqvG35V8t"
      },
      "source": [
        "### elif 用於當你有多個互斥的條件時，可以使用。"
      ]
    },
    {
      "cell_type": "code",
      "metadata": {
        "id": "gAWZ3ioa5V8t",
        "outputId": "860e2c32-c1e4-46b2-ab4b-36841bb1995b"
      },
      "source": [
        "a = int(input())\n",
        "if a==2 :\n",
        "    print(a,\"is two\")\n",
        "elif a == 3:\n",
        "    print(a,\"is three\")\n",
        "else :\n",
        "    print(a,\"is not two or three\")"
      ],
      "execution_count": null,
      "outputs": [
        {
          "name": "stdout",
          "output_type": "stream",
          "text": [
            "2\n",
            "2 is two\n"
          ]
        }
      ]
    },
    {
      "cell_type": "markdown",
      "metadata": {
        "id": "dixhos_15V8t"
      },
      "source": [
        "#### 型別判斷器優化版"
      ]
    },
    {
      "cell_type": "code",
      "metadata": {
        "id": "CWQ8rrSg5V8u"
      },
      "source": [
        "def type_test(test):\n",
        "    if type(test) == int:\n",
        "        return(test,\"is a integer\")\n",
        "    elif type(test) == float:\n",
        "        return(test,\"is a decimal\")\n",
        "    elif type(test) == str:\n",
        "        return(test,\"is a word\")\n",
        "    else :\n",
        "        return(test,\"is not a integer, decimal or word\")"
      ],
      "execution_count": null,
      "outputs": []
    },
    {
      "cell_type": "code",
      "metadata": {
        "id": "-qpnIeyi5V8u",
        "outputId": "96b3b1f8-26ca-45f1-e829-63867bf50674"
      },
      "source": [
        "type_test(2)"
      ],
      "execution_count": null,
      "outputs": [
        {
          "data": {
            "text/plain": [
              "(2, 'is a integer')"
            ]
          },
          "execution_count": 130,
          "metadata": {},
          "output_type": "execute_result"
        }
      ]
    },
    {
      "cell_type": "code",
      "metadata": {
        "id": "FHdQNWPI5V8u",
        "outputId": "cb3debbe-63ef-4c52-b7a0-1f1178e25066"
      },
      "source": [
        "type_test(2.1)"
      ],
      "execution_count": null,
      "outputs": [
        {
          "data": {
            "text/plain": [
              "(2.1, 'is a decimal')"
            ]
          },
          "execution_count": 131,
          "metadata": {},
          "output_type": "execute_result"
        }
      ]
    },
    {
      "cell_type": "code",
      "metadata": {
        "id": "3p2I2bRz5V8u",
        "outputId": "2d8a612d-129d-4f01-f1fa-14f003d6872f"
      },
      "source": [
        "type_test(\"2\")"
      ],
      "execution_count": null,
      "outputs": [
        {
          "data": {
            "text/plain": [
              "('2', 'is a word')"
            ]
          },
          "execution_count": 132,
          "metadata": {},
          "output_type": "execute_result"
        }
      ]
    },
    {
      "cell_type": "code",
      "metadata": {
        "id": "piRFYQr75V8u",
        "outputId": "15a08a8e-7916-4003-a879-7e6348c5cb4d"
      },
      "source": [
        "type_test([])"
      ],
      "execution_count": null,
      "outputs": [
        {
          "data": {
            "text/plain": [
              "([], 'is not a integer, decimal or word')"
            ]
          },
          "execution_count": 133,
          "metadata": {},
          "output_type": "execute_result"
        }
      ]
    },
    {
      "cell_type": "markdown",
      "metadata": {
        "id": "jwAoVMCk5V8u"
      },
      "source": [
        "#### GPA計算機"
      ]
    },
    {
      "cell_type": "code",
      "metadata": {
        "id": "EeUGVTlK5V8v"
      },
      "source": [
        "def GPA_cal(score):\n",
        "    if score>= 90:\n",
        "        return(4.0)\n",
        "    elif 80<=score<90:\n",
        "        return(3.0)\n",
        "    elif 70<=score<80:\n",
        "        return(2.0)\n",
        "    elif 60<=score<70:\n",
        "        return(1.0)\n",
        "    else:\n",
        "        return(0)"
      ],
      "execution_count": null,
      "outputs": []
    },
    {
      "cell_type": "code",
      "metadata": {
        "id": "NclL1_xS5V8v",
        "outputId": "85e1984e-52cd-410e-d4f3-7180d2107286"
      },
      "source": [
        "GPA_cal(81)"
      ],
      "execution_count": null,
      "outputs": [
        {
          "data": {
            "text/plain": [
              "3.0"
            ]
          },
          "execution_count": 139,
          "metadata": {},
          "output_type": "execute_result"
        }
      ]
    },
    {
      "cell_type": "markdown",
      "metadata": {
        "id": "LNB-eWyO5V8v"
      },
      "source": [
        "### Q3:今年小明想要上政大，已知國英數的加權權重W=[1,1.5,2]，小明的分數為S=[70,83,100]，小明想要進入的校系與其錄取標準為D={\"金融系\":398.85,\"經濟系\":377.75,\"財管系\":399.80}，請問小明能錄取哪些系呢？用if elif和else做做看。"
      ]
    },
    {
      "cell_type": "markdown",
      "metadata": {
        "id": "_kT8DC7L5V8v"
      },
      "source": [
        "### Nested if 用在當你在條件裡面，還要分情況時"
      ]
    },
    {
      "cell_type": "code",
      "metadata": {
        "id": "VYjtaDBW5V8v"
      },
      "source": [
        "### 判斷a,b是否都等於1\n",
        "def equal(a,b):\n",
        "    if a==1:\n",
        "        if b == 1:\n",
        "            print(\"a and b equal to 1\")\n",
        "        else :\n",
        "            print(\"b is not equal to 1\")\n",
        "    else:\n",
        "        print(\"a is not equal to 1\")"
      ],
      "execution_count": null,
      "outputs": []
    },
    {
      "cell_type": "code",
      "metadata": {
        "id": "khFfN1q15V8v",
        "outputId": "787b0e65-e415-4fea-ac2f-d06ce298647b"
      },
      "source": [
        "equal(1,1)"
      ],
      "execution_count": null,
      "outputs": [
        {
          "name": "stdout",
          "output_type": "stream",
          "text": [
            "a and b equal to 1\n"
          ]
        }
      ]
    },
    {
      "cell_type": "code",
      "metadata": {
        "id": "rajRYUv15V8v",
        "outputId": "a422e986-6eed-46ca-c723-97f42345d6fd"
      },
      "source": [
        "equal(1,2)"
      ],
      "execution_count": null,
      "outputs": [
        {
          "name": "stdout",
          "output_type": "stream",
          "text": [
            "b is not equal to 1\n"
          ]
        }
      ]
    },
    {
      "cell_type": "code",
      "metadata": {
        "id": "D1Qqx1Xp5V8v",
        "outputId": "2d94a9a5-063f-4a7c-8903-0d27f403f3e8"
      },
      "source": [
        "equal(2,1)"
      ],
      "execution_count": null,
      "outputs": [
        {
          "name": "stdout",
          "output_type": "stream",
          "text": [
            "a is not equal to 1\n"
          ]
        }
      ]
    },
    {
      "cell_type": "code",
      "metadata": {
        "id": "fY0aa-I85V8w"
      },
      "source": [
        "### 找最大值\n",
        "def fmax(a,b,c):\n",
        "    max1 = 0\n",
        "    if a>b:\n",
        "        if a>c:\n",
        "            max1 = a  \n",
        "        else :\n",
        "            max1 = c\n",
        "    else:\n",
        "        if b>c:\n",
        "            max1 = b\n",
        "        else:\n",
        "            max1 = c\n",
        "    print(\"the max is \",max1)\n"
      ],
      "execution_count": null,
      "outputs": []
    },
    {
      "cell_type": "code",
      "metadata": {
        "id": "nEOR1guZ5V8w",
        "outputId": "54dac94d-8eb8-445c-c4e4-8ccf1caf8c01"
      },
      "source": [
        "fmax(10,222,30)"
      ],
      "execution_count": null,
      "outputs": [
        {
          "name": "stdout",
          "output_type": "stream",
          "text": [
            "the max is  222\n"
          ]
        }
      ]
    },
    {
      "cell_type": "markdown",
      "metadata": {
        "id": "JiOOrtlS5V8w"
      },
      "source": [
        "### Q4: 試試看寫一個函數去判斷四個數字之間的最小值。用 (1,2,3,4)去測試看看你的函數是否正確。"
      ]
    },
    {
      "cell_type": "markdown",
      "metadata": {
        "id": "591_rJPq5V8w"
      },
      "source": [
        "### HW"
      ]
    },
    {
      "cell_type": "markdown",
      "metadata": {
        "id": "JGZfvlqg5V8w"
      },
      "source": [
        "## Q1:請寫一個函數去判斷，一個自然數k，是否同時為2跟3的倍數。用k = 10,1620,13!試試看。"
      ]
    },
    {
      "cell_type": "markdown",
      "metadata": {
        "id": "xw3orH6A5V8w"
      },
      "source": [
        "## Q2:請寫一個函數去判斷，一個自然數k，是否為(1)7的倍數 (2)13的倍數。用k=52,k=91,k=10920,k=13!試試看。\n",
        "\n",
        "#### HINT：可以用list去做判斷，會快很多，注意，k可能同時為7和13的倍數。"
      ]
    },
    {
      "cell_type": "markdown",
      "metadata": {
        "id": "wk0QgjU05V8w"
      },
      "source": [
        "## Q3:今天有一家餐廳，這家餐廳的收入和成本當天溫度有關係，如果當天會虧損，則餐廳就不開門了。\n",
        "## 假設\n",
        "## 收入$ I = e^{-t^2+\\frac{1}{t}} + \\frac{100}{t}$ \n",
        "## 成本 $C =1+log_e{( t^2+t+1)}$\n",
        "## 請問溫度為 (1) t=0.1 (2) t= 10 (3) t=15 (4) t=25 時 ， 餐廳會開門嗎？"
      ]
    },
    {
      "cell_type": "markdown",
      "metadata": {
        "id": "hZZB2UnM5V8w"
      },
      "source": [
        "## Q4：承上提，如果我們將C分解為FC和VC，其中FC = 1 ,  $ VC =log_e{( t^2+t+1)}$ ，現在，若I>=VC就會開門，請判斷，當溫度為(1) t = 0.1 (2) t=10 (3) t=15 (4) t=25時，餐廳會開門嗎？如果會開門的話，餐廳今天是否有賺錢？"
      ]
    },
    {
      "cell_type": "markdown",
      "metadata": {
        "id": "CzqAmn875V8x"
      },
      "source": [
        "## Q5: 試著寫一個函數去排序三個數字的大小。用(1,2,3) (3,2,1) (2,1,3)去測試看看你的函數是否正確。"
      ]
    }
  ]
}